{
  "nbformat": 4,
  "nbformat_minor": 0,
  "metadata": {
    "colab": {
      "provenance": [],
      "gpuType": "T4",
      "mount_file_id": "1NXUjutncQZ_b2e0w0hSEeX9y7e8ILtz8",
      "authorship_tag": "ABX9TyNR9cmrYGZFfz0JBT/xp1K2",
      "include_colab_link": true
    },
    "kernelspec": {
      "name": "python3",
      "display_name": "Python 3"
    },
    "language_info": {
      "name": "python"
    },
    "accelerator": "GPU"
  },
  "cells": [
    {
      "cell_type": "markdown",
      "metadata": {
        "id": "view-in-github",
        "colab_type": "text"
      },
      "source": [
        "<a href=\"https://colab.research.google.com/github/BretaOsodo/heart-disease-prediction-ml/blob/main/Heart_Disease_Prediction.ipynb\" target=\"_parent\"><img src=\"https://colab.research.google.com/assets/colab-badge.svg\" alt=\"Open In Colab\"/></a>"
      ]
    },
    {
      "cell_type": "code",
      "source": [
        "! git clone https://github.com/BretaOsodo/heart-disease-prediction-ml.git"
      ],
      "metadata": {
        "colab": {
          "base_uri": "https://localhost:8080/"
        },
        "id": "i2-0nQZ1pYeH",
        "outputId": "789f33e3-7971-449d-f1fc-a909f1013572"
      },
      "execution_count": 1,
      "outputs": [
        {
          "output_type": "stream",
          "name": "stdout",
          "text": [
            "Cloning into 'heart-disease-prediction-ml'...\n",
            "remote: Enumerating objects: 7, done.\u001b[K\n",
            "remote: Counting objects: 100% (7/7), done.\u001b[K\n",
            "remote: Compressing objects: 100% (7/7), done.\u001b[K\n",
            "remote: Total 7 (delta 1), reused 0 (delta 0), pack-reused 0 (from 0)\u001b[K\n",
            "Receiving objects: 100% (7/7), 4.13 KiB | 4.13 MiB/s, done.\n",
            "Resolving deltas: 100% (1/1), done.\n"
          ]
        }
      ]
    },
    {
      "cell_type": "markdown",
      "source": [
        "#Heart Disease Classification Using Machine Learning"
      ],
      "metadata": {
        "id": "5T5WVn9vQ0do"
      }
    },
    {
      "cell_type": "markdown",
      "source": [
        "##1. Introduction"
      ],
      "metadata": {
        "id": "yRKqJge7RXp0"
      }
    },
    {
      "cell_type": "markdown",
      "source": [
        "Heart disease is one of the leading causes of death worldwide, making early prediction and detection essential for improving patient outcomes. With the increasing availability of medical data, machine learning provides opportunities to develop classification models that can predict the likelihood of heart disease based on patient attributes such as age, blood pressure, cholesterol levels, and lifestyle indicators.\n",
        "\n",
        "This project aims to build a predictive model for heart disease classification using supervised learning algorithms. By analyzing patterns in patient health records, the model can help medical practitioners and health organizations identify individuals at higher risk and take preventive actions."
      ],
      "metadata": {
        "id": "iw12efG-RfQP"
      }
    },
    {
      "cell_type": "markdown",
      "source": [
        "##2. Problem Statement"
      ],
      "metadata": {
        "id": "-b8_HicKRiPs"
      }
    },
    {
      "cell_type": "markdown",
      "source": [
        "Despite advances in medical science, timely diagnosis of heart disease remains a challenge due to the complexity of risk factors and individual variability. Traditional diagnostic approaches rely heavily on manual analysis, which can be subjective and time-consuming.\n",
        "\n",
        "The core problem addressed in this project is:\n",
        "How can we use machine learning techniques to classify patients into heart disease risk categories (disease vs. no disease) with high accuracy, interpretability, and reliability?"
      ],
      "metadata": {
        "id": "k6Oe9vTeRsNo"
      }
    },
    {
      "cell_type": "markdown",
      "source": [
        "##3. Objectives"
      ],
      "metadata": {
        "id": "32YOPXgzRtmq"
      }
    },
    {
      "cell_type": "markdown",
      "source": [
        "1. To explore and preprocess heart disease datasets for machine learning tasks.\n",
        "2. To implement classification models such as Logistic Regression, Decision Trees and deep learning\n",
        "3. To compare model performance based on accuracy\n",
        "4. To highlight the potential use of the model as a decision support system for healthcare practitioners."
      ],
      "metadata": {
        "id": "_V6r5JsiR8jN"
      }
    },
    {
      "cell_type": "markdown",
      "source": [
        "##5. Methodology"
      ],
      "metadata": {
        "id": "Mi-LpAIpSOcS"
      }
    },
    {
      "cell_type": "markdown",
      "source": [
        "###5.1 Dataset"
      ],
      "metadata": {
        "id": "RoIKYSNzSbQq"
      }
    },
    {
      "cell_type": "markdown",
      "source": [
        "Source: UCI Heart Disease Dataset (or another reliable dataset such as Cleveland Heart Dataset).\n",
        "Attributes: Age, sex, chest pain type, resting blood pressure, cholesterol, fasting blood sugar, resting ECG, maximum heart rate, exercise-induced angina, oldpeak (ST depression), slope, number of major vessels, thalassemia, and target (presence/absence of heart disease)."
      ],
      "metadata": {
        "id": "9-w3YP8pSeb7"
      }
    },
    {
      "cell_type": "markdown",
      "source": [
        "###5.2 Data Preprocessing"
      ],
      "metadata": {
        "id": "RQopAQnzShnP"
      }
    },
    {
      "cell_type": "markdown",
      "source": [
        "####5.2.1 Importing Data"
      ],
      "metadata": {
        "id": "Zrf2jTI3SnnI"
      }
    },
    {
      "cell_type": "code",
      "source": [
        "import pandas as pd\n",
        "import numpy as np"
      ],
      "metadata": {
        "id": "YJfq-elbSrtN"
      },
      "execution_count": 2,
      "outputs": []
    },
    {
      "cell_type": "code",
      "source": [
        "#Importing data as a csv file\n",
        "df= pd.read_csv('/content/drive/MyDrive/Datasets/heart.csv')\n",
        "\n",
        "#printing the first 5 roes of the dataset\n",
        "df.head()"
      ],
      "metadata": {
        "colab": {
          "base_uri": "https://localhost:8080/",
          "height": 206
        },
        "id": "xJzzAb4zS04p",
        "outputId": "099a5586-81e7-4387-a40c-1344900fda99"
      },
      "execution_count": 3,
      "outputs": [
        {
          "output_type": "execute_result",
          "data": {
            "text/plain": [
              "   age  sex  cp  trestbps  chol  fbs  restecg  thalach  exang  oldpeak  slope  \\\n",
              "0   52    1   0       125   212    0        1      168      0      1.0      2   \n",
              "1   53    1   0       140   203    1        0      155      1      3.1      0   \n",
              "2   70    1   0       145   174    0        1      125      1      2.6      0   \n",
              "3   61    1   0       148   203    0        1      161      0      0.0      2   \n",
              "4   62    0   0       138   294    1        1      106      0      1.9      1   \n",
              "\n",
              "   ca  thal  target  \n",
              "0   2     3       0  \n",
              "1   0     3       0  \n",
              "2   0     3       0  \n",
              "3   1     3       0  \n",
              "4   3     2       0  "
            ],
            "text/html": [
              "\n",
              "  <div id=\"df-2190257a-0d5b-496b-80f2-243393980e66\" class=\"colab-df-container\">\n",
              "    <div>\n",
              "<style scoped>\n",
              "    .dataframe tbody tr th:only-of-type {\n",
              "        vertical-align: middle;\n",
              "    }\n",
              "\n",
              "    .dataframe tbody tr th {\n",
              "        vertical-align: top;\n",
              "    }\n",
              "\n",
              "    .dataframe thead th {\n",
              "        text-align: right;\n",
              "    }\n",
              "</style>\n",
              "<table border=\"1\" class=\"dataframe\">\n",
              "  <thead>\n",
              "    <tr style=\"text-align: right;\">\n",
              "      <th></th>\n",
              "      <th>age</th>\n",
              "      <th>sex</th>\n",
              "      <th>cp</th>\n",
              "      <th>trestbps</th>\n",
              "      <th>chol</th>\n",
              "      <th>fbs</th>\n",
              "      <th>restecg</th>\n",
              "      <th>thalach</th>\n",
              "      <th>exang</th>\n",
              "      <th>oldpeak</th>\n",
              "      <th>slope</th>\n",
              "      <th>ca</th>\n",
              "      <th>thal</th>\n",
              "      <th>target</th>\n",
              "    </tr>\n",
              "  </thead>\n",
              "  <tbody>\n",
              "    <tr>\n",
              "      <th>0</th>\n",
              "      <td>52</td>\n",
              "      <td>1</td>\n",
              "      <td>0</td>\n",
              "      <td>125</td>\n",
              "      <td>212</td>\n",
              "      <td>0</td>\n",
              "      <td>1</td>\n",
              "      <td>168</td>\n",
              "      <td>0</td>\n",
              "      <td>1.0</td>\n",
              "      <td>2</td>\n",
              "      <td>2</td>\n",
              "      <td>3</td>\n",
              "      <td>0</td>\n",
              "    </tr>\n",
              "    <tr>\n",
              "      <th>1</th>\n",
              "      <td>53</td>\n",
              "      <td>1</td>\n",
              "      <td>0</td>\n",
              "      <td>140</td>\n",
              "      <td>203</td>\n",
              "      <td>1</td>\n",
              "      <td>0</td>\n",
              "      <td>155</td>\n",
              "      <td>1</td>\n",
              "      <td>3.1</td>\n",
              "      <td>0</td>\n",
              "      <td>0</td>\n",
              "      <td>3</td>\n",
              "      <td>0</td>\n",
              "    </tr>\n",
              "    <tr>\n",
              "      <th>2</th>\n",
              "      <td>70</td>\n",
              "      <td>1</td>\n",
              "      <td>0</td>\n",
              "      <td>145</td>\n",
              "      <td>174</td>\n",
              "      <td>0</td>\n",
              "      <td>1</td>\n",
              "      <td>125</td>\n",
              "      <td>1</td>\n",
              "      <td>2.6</td>\n",
              "      <td>0</td>\n",
              "      <td>0</td>\n",
              "      <td>3</td>\n",
              "      <td>0</td>\n",
              "    </tr>\n",
              "    <tr>\n",
              "      <th>3</th>\n",
              "      <td>61</td>\n",
              "      <td>1</td>\n",
              "      <td>0</td>\n",
              "      <td>148</td>\n",
              "      <td>203</td>\n",
              "      <td>0</td>\n",
              "      <td>1</td>\n",
              "      <td>161</td>\n",
              "      <td>0</td>\n",
              "      <td>0.0</td>\n",
              "      <td>2</td>\n",
              "      <td>1</td>\n",
              "      <td>3</td>\n",
              "      <td>0</td>\n",
              "    </tr>\n",
              "    <tr>\n",
              "      <th>4</th>\n",
              "      <td>62</td>\n",
              "      <td>0</td>\n",
              "      <td>0</td>\n",
              "      <td>138</td>\n",
              "      <td>294</td>\n",
              "      <td>1</td>\n",
              "      <td>1</td>\n",
              "      <td>106</td>\n",
              "      <td>0</td>\n",
              "      <td>1.9</td>\n",
              "      <td>1</td>\n",
              "      <td>3</td>\n",
              "      <td>2</td>\n",
              "      <td>0</td>\n",
              "    </tr>\n",
              "  </tbody>\n",
              "</table>\n",
              "</div>\n",
              "    <div class=\"colab-df-buttons\">\n",
              "\n",
              "  <div class=\"colab-df-container\">\n",
              "    <button class=\"colab-df-convert\" onclick=\"convertToInteractive('df-2190257a-0d5b-496b-80f2-243393980e66')\"\n",
              "            title=\"Convert this dataframe to an interactive table.\"\n",
              "            style=\"display:none;\">\n",
              "\n",
              "  <svg xmlns=\"http://www.w3.org/2000/svg\" height=\"24px\" viewBox=\"0 -960 960 960\">\n",
              "    <path d=\"M120-120v-720h720v720H120Zm60-500h600v-160H180v160Zm220 220h160v-160H400v160Zm0 220h160v-160H400v160ZM180-400h160v-160H180v160Zm440 0h160v-160H620v160ZM180-180h160v-160H180v160Zm440 0h160v-160H620v160Z\"/>\n",
              "  </svg>\n",
              "    </button>\n",
              "\n",
              "  <style>\n",
              "    .colab-df-container {\n",
              "      display:flex;\n",
              "      gap: 12px;\n",
              "    }\n",
              "\n",
              "    .colab-df-convert {\n",
              "      background-color: #E8F0FE;\n",
              "      border: none;\n",
              "      border-radius: 50%;\n",
              "      cursor: pointer;\n",
              "      display: none;\n",
              "      fill: #1967D2;\n",
              "      height: 32px;\n",
              "      padding: 0 0 0 0;\n",
              "      width: 32px;\n",
              "    }\n",
              "\n",
              "    .colab-df-convert:hover {\n",
              "      background-color: #E2EBFA;\n",
              "      box-shadow: 0px 1px 2px rgba(60, 64, 67, 0.3), 0px 1px 3px 1px rgba(60, 64, 67, 0.15);\n",
              "      fill: #174EA6;\n",
              "    }\n",
              "\n",
              "    .colab-df-buttons div {\n",
              "      margin-bottom: 4px;\n",
              "    }\n",
              "\n",
              "    [theme=dark] .colab-df-convert {\n",
              "      background-color: #3B4455;\n",
              "      fill: #D2E3FC;\n",
              "    }\n",
              "\n",
              "    [theme=dark] .colab-df-convert:hover {\n",
              "      background-color: #434B5C;\n",
              "      box-shadow: 0px 1px 3px 1px rgba(0, 0, 0, 0.15);\n",
              "      filter: drop-shadow(0px 1px 2px rgba(0, 0, 0, 0.3));\n",
              "      fill: #FFFFFF;\n",
              "    }\n",
              "  </style>\n",
              "\n",
              "    <script>\n",
              "      const buttonEl =\n",
              "        document.querySelector('#df-2190257a-0d5b-496b-80f2-243393980e66 button.colab-df-convert');\n",
              "      buttonEl.style.display =\n",
              "        google.colab.kernel.accessAllowed ? 'block' : 'none';\n",
              "\n",
              "      async function convertToInteractive(key) {\n",
              "        const element = document.querySelector('#df-2190257a-0d5b-496b-80f2-243393980e66');\n",
              "        const dataTable =\n",
              "          await google.colab.kernel.invokeFunction('convertToInteractive',\n",
              "                                                    [key], {});\n",
              "        if (!dataTable) return;\n",
              "\n",
              "        const docLinkHtml = 'Like what you see? Visit the ' +\n",
              "          '<a target=\"_blank\" href=https://colab.research.google.com/notebooks/data_table.ipynb>data table notebook</a>'\n",
              "          + ' to learn more about interactive tables.';\n",
              "        element.innerHTML = '';\n",
              "        dataTable['output_type'] = 'display_data';\n",
              "        await google.colab.output.renderOutput(dataTable, element);\n",
              "        const docLink = document.createElement('div');\n",
              "        docLink.innerHTML = docLinkHtml;\n",
              "        element.appendChild(docLink);\n",
              "      }\n",
              "    </script>\n",
              "  </div>\n",
              "\n",
              "\n",
              "    <div id=\"df-ae1c2044-092a-4b39-9621-50d00a28cd09\">\n",
              "      <button class=\"colab-df-quickchart\" onclick=\"quickchart('df-ae1c2044-092a-4b39-9621-50d00a28cd09')\"\n",
              "                title=\"Suggest charts\"\n",
              "                style=\"display:none;\">\n",
              "\n",
              "<svg xmlns=\"http://www.w3.org/2000/svg\" height=\"24px\"viewBox=\"0 0 24 24\"\n",
              "     width=\"24px\">\n",
              "    <g>\n",
              "        <path d=\"M19 3H5c-1.1 0-2 .9-2 2v14c0 1.1.9 2 2 2h14c1.1 0 2-.9 2-2V5c0-1.1-.9-2-2-2zM9 17H7v-7h2v7zm4 0h-2V7h2v10zm4 0h-2v-4h2v4z\"/>\n",
              "    </g>\n",
              "</svg>\n",
              "      </button>\n",
              "\n",
              "<style>\n",
              "  .colab-df-quickchart {\n",
              "      --bg-color: #E8F0FE;\n",
              "      --fill-color: #1967D2;\n",
              "      --hover-bg-color: #E2EBFA;\n",
              "      --hover-fill-color: #174EA6;\n",
              "      --disabled-fill-color: #AAA;\n",
              "      --disabled-bg-color: #DDD;\n",
              "  }\n",
              "\n",
              "  [theme=dark] .colab-df-quickchart {\n",
              "      --bg-color: #3B4455;\n",
              "      --fill-color: #D2E3FC;\n",
              "      --hover-bg-color: #434B5C;\n",
              "      --hover-fill-color: #FFFFFF;\n",
              "      --disabled-bg-color: #3B4455;\n",
              "      --disabled-fill-color: #666;\n",
              "  }\n",
              "\n",
              "  .colab-df-quickchart {\n",
              "    background-color: var(--bg-color);\n",
              "    border: none;\n",
              "    border-radius: 50%;\n",
              "    cursor: pointer;\n",
              "    display: none;\n",
              "    fill: var(--fill-color);\n",
              "    height: 32px;\n",
              "    padding: 0;\n",
              "    width: 32px;\n",
              "  }\n",
              "\n",
              "  .colab-df-quickchart:hover {\n",
              "    background-color: var(--hover-bg-color);\n",
              "    box-shadow: 0 1px 2px rgba(60, 64, 67, 0.3), 0 1px 3px 1px rgba(60, 64, 67, 0.15);\n",
              "    fill: var(--button-hover-fill-color);\n",
              "  }\n",
              "\n",
              "  .colab-df-quickchart-complete:disabled,\n",
              "  .colab-df-quickchart-complete:disabled:hover {\n",
              "    background-color: var(--disabled-bg-color);\n",
              "    fill: var(--disabled-fill-color);\n",
              "    box-shadow: none;\n",
              "  }\n",
              "\n",
              "  .colab-df-spinner {\n",
              "    border: 2px solid var(--fill-color);\n",
              "    border-color: transparent;\n",
              "    border-bottom-color: var(--fill-color);\n",
              "    animation:\n",
              "      spin 1s steps(1) infinite;\n",
              "  }\n",
              "\n",
              "  @keyframes spin {\n",
              "    0% {\n",
              "      border-color: transparent;\n",
              "      border-bottom-color: var(--fill-color);\n",
              "      border-left-color: var(--fill-color);\n",
              "    }\n",
              "    20% {\n",
              "      border-color: transparent;\n",
              "      border-left-color: var(--fill-color);\n",
              "      border-top-color: var(--fill-color);\n",
              "    }\n",
              "    30% {\n",
              "      border-color: transparent;\n",
              "      border-left-color: var(--fill-color);\n",
              "      border-top-color: var(--fill-color);\n",
              "      border-right-color: var(--fill-color);\n",
              "    }\n",
              "    40% {\n",
              "      border-color: transparent;\n",
              "      border-right-color: var(--fill-color);\n",
              "      border-top-color: var(--fill-color);\n",
              "    }\n",
              "    60% {\n",
              "      border-color: transparent;\n",
              "      border-right-color: var(--fill-color);\n",
              "    }\n",
              "    80% {\n",
              "      border-color: transparent;\n",
              "      border-right-color: var(--fill-color);\n",
              "      border-bottom-color: var(--fill-color);\n",
              "    }\n",
              "    90% {\n",
              "      border-color: transparent;\n",
              "      border-bottom-color: var(--fill-color);\n",
              "    }\n",
              "  }\n",
              "</style>\n",
              "\n",
              "      <script>\n",
              "        async function quickchart(key) {\n",
              "          const quickchartButtonEl =\n",
              "            document.querySelector('#' + key + ' button');\n",
              "          quickchartButtonEl.disabled = true;  // To prevent multiple clicks.\n",
              "          quickchartButtonEl.classList.add('colab-df-spinner');\n",
              "          try {\n",
              "            const charts = await google.colab.kernel.invokeFunction(\n",
              "                'suggestCharts', [key], {});\n",
              "          } catch (error) {\n",
              "            console.error('Error during call to suggestCharts:', error);\n",
              "          }\n",
              "          quickchartButtonEl.classList.remove('colab-df-spinner');\n",
              "          quickchartButtonEl.classList.add('colab-df-quickchart-complete');\n",
              "        }\n",
              "        (() => {\n",
              "          let quickchartButtonEl =\n",
              "            document.querySelector('#df-ae1c2044-092a-4b39-9621-50d00a28cd09 button');\n",
              "          quickchartButtonEl.style.display =\n",
              "            google.colab.kernel.accessAllowed ? 'block' : 'none';\n",
              "        })();\n",
              "      </script>\n",
              "    </div>\n",
              "\n",
              "    </div>\n",
              "  </div>\n"
            ],
            "application/vnd.google.colaboratory.intrinsic+json": {
              "type": "dataframe",
              "variable_name": "df",
              "summary": "{\n  \"name\": \"df\",\n  \"rows\": 1025,\n  \"fields\": [\n    {\n      \"column\": \"age\",\n      \"properties\": {\n        \"dtype\": \"number\",\n        \"std\": 9,\n        \"min\": 29,\n        \"max\": 77,\n        \"num_unique_values\": 41,\n        \"samples\": [\n          65,\n          50,\n          54\n        ],\n        \"semantic_type\": \"\",\n        \"description\": \"\"\n      }\n    },\n    {\n      \"column\": \"sex\",\n      \"properties\": {\n        \"dtype\": \"number\",\n        \"std\": 0,\n        \"min\": 0,\n        \"max\": 1,\n        \"num_unique_values\": 2,\n        \"samples\": [\n          0,\n          1\n        ],\n        \"semantic_type\": \"\",\n        \"description\": \"\"\n      }\n    },\n    {\n      \"column\": \"cp\",\n      \"properties\": {\n        \"dtype\": \"number\",\n        \"std\": 1,\n        \"min\": 0,\n        \"max\": 3,\n        \"num_unique_values\": 4,\n        \"samples\": [\n          1,\n          3\n        ],\n        \"semantic_type\": \"\",\n        \"description\": \"\"\n      }\n    },\n    {\n      \"column\": \"trestbps\",\n      \"properties\": {\n        \"dtype\": \"number\",\n        \"std\": 17,\n        \"min\": 94,\n        \"max\": 200,\n        \"num_unique_values\": 49,\n        \"samples\": [\n          128,\n          172\n        ],\n        \"semantic_type\": \"\",\n        \"description\": \"\"\n      }\n    },\n    {\n      \"column\": \"chol\",\n      \"properties\": {\n        \"dtype\": \"number\",\n        \"std\": 51,\n        \"min\": 126,\n        \"max\": 564,\n        \"num_unique_values\": 152,\n        \"samples\": [\n          267,\n          262\n        ],\n        \"semantic_type\": \"\",\n        \"description\": \"\"\n      }\n    },\n    {\n      \"column\": \"fbs\",\n      \"properties\": {\n        \"dtype\": \"number\",\n        \"std\": 0,\n        \"min\": 0,\n        \"max\": 1,\n        \"num_unique_values\": 2,\n        \"samples\": [\n          1,\n          0\n        ],\n        \"semantic_type\": \"\",\n        \"description\": \"\"\n      }\n    },\n    {\n      \"column\": \"restecg\",\n      \"properties\": {\n        \"dtype\": \"number\",\n        \"std\": 0,\n        \"min\": 0,\n        \"max\": 2,\n        \"num_unique_values\": 3,\n        \"samples\": [\n          1,\n          0\n        ],\n        \"semantic_type\": \"\",\n        \"description\": \"\"\n      }\n    },\n    {\n      \"column\": \"thalach\",\n      \"properties\": {\n        \"dtype\": \"number\",\n        \"std\": 23,\n        \"min\": 71,\n        \"max\": 202,\n        \"num_unique_values\": 91,\n        \"samples\": [\n          180,\n          152\n        ],\n        \"semantic_type\": \"\",\n        \"description\": \"\"\n      }\n    },\n    {\n      \"column\": \"exang\",\n      \"properties\": {\n        \"dtype\": \"number\",\n        \"std\": 0,\n        \"min\": 0,\n        \"max\": 1,\n        \"num_unique_values\": 2,\n        \"samples\": [\n          1,\n          0\n        ],\n        \"semantic_type\": \"\",\n        \"description\": \"\"\n      }\n    },\n    {\n      \"column\": \"oldpeak\",\n      \"properties\": {\n        \"dtype\": \"number\",\n        \"std\": 1.175053255150173,\n        \"min\": 0.0,\n        \"max\": 6.2,\n        \"num_unique_values\": 40,\n        \"samples\": [\n          2.8,\n          0.4\n        ],\n        \"semantic_type\": \"\",\n        \"description\": \"\"\n      }\n    },\n    {\n      \"column\": \"slope\",\n      \"properties\": {\n        \"dtype\": \"number\",\n        \"std\": 0,\n        \"min\": 0,\n        \"max\": 2,\n        \"num_unique_values\": 3,\n        \"samples\": [\n          2,\n          0\n        ],\n        \"semantic_type\": \"\",\n        \"description\": \"\"\n      }\n    },\n    {\n      \"column\": \"ca\",\n      \"properties\": {\n        \"dtype\": \"number\",\n        \"std\": 1,\n        \"min\": 0,\n        \"max\": 4,\n        \"num_unique_values\": 5,\n        \"samples\": [\n          0,\n          4\n        ],\n        \"semantic_type\": \"\",\n        \"description\": \"\"\n      }\n    },\n    {\n      \"column\": \"thal\",\n      \"properties\": {\n        \"dtype\": \"number\",\n        \"std\": 0,\n        \"min\": 0,\n        \"max\": 3,\n        \"num_unique_values\": 4,\n        \"samples\": [\n          2,\n          0\n        ],\n        \"semantic_type\": \"\",\n        \"description\": \"\"\n      }\n    },\n    {\n      \"column\": \"target\",\n      \"properties\": {\n        \"dtype\": \"number\",\n        \"std\": 0,\n        \"min\": 0,\n        \"max\": 1,\n        \"num_unique_values\": 2,\n        \"samples\": [\n          1,\n          0\n        ],\n        \"semantic_type\": \"\",\n        \"description\": \"\"\n      }\n    }\n  ]\n}"
            }
          },
          "metadata": {},
          "execution_count": 3
        }
      ]
    },
    {
      "cell_type": "markdown",
      "source": [
        "####5.2.2 Explore Data Analysis(EDA)"
      ],
      "metadata": {
        "id": "yRF5tTo8TWnb"
      }
    },
    {
      "cell_type": "code",
      "source": [
        "#determining the number of rows and columns our data has\n",
        "df.shape"
      ],
      "metadata": {
        "colab": {
          "base_uri": "https://localhost:8080/"
        },
        "id": "Jf-N9_Z6TjLH",
        "outputId": "fe080d1d-f1ec-4d85-f748-8be5f856eed4"
      },
      "execution_count": 4,
      "outputs": [
        {
          "output_type": "execute_result",
          "data": {
            "text/plain": [
              "(1025, 14)"
            ]
          },
          "metadata": {},
          "execution_count": 4
        }
      ]
    },
    {
      "cell_type": "markdown",
      "source": [
        "Our data has 1025 rows and 14 columns"
      ],
      "metadata": {
        "id": "8rnInTyVT3mX"
      }
    },
    {
      "cell_type": "code",
      "source": [
        "#determining if we have any missing values in our data\n",
        "df.isnull().sum()"
      ],
      "metadata": {
        "colab": {
          "base_uri": "https://localhost:8080/",
          "height": 523
        },
        "id": "qjnU9qD1T2c6",
        "outputId": "6d101f34-1b4b-4dff-9d7e-e2a8ea352110"
      },
      "execution_count": 5,
      "outputs": [
        {
          "output_type": "execute_result",
          "data": {
            "text/plain": [
              "age         0\n",
              "sex         0\n",
              "cp          0\n",
              "trestbps    0\n",
              "chol        0\n",
              "fbs         0\n",
              "restecg     0\n",
              "thalach     0\n",
              "exang       0\n",
              "oldpeak     0\n",
              "slope       0\n",
              "ca          0\n",
              "thal        0\n",
              "target      0\n",
              "dtype: int64"
            ],
            "text/html": [
              "<div>\n",
              "<style scoped>\n",
              "    .dataframe tbody tr th:only-of-type {\n",
              "        vertical-align: middle;\n",
              "    }\n",
              "\n",
              "    .dataframe tbody tr th {\n",
              "        vertical-align: top;\n",
              "    }\n",
              "\n",
              "    .dataframe thead th {\n",
              "        text-align: right;\n",
              "    }\n",
              "</style>\n",
              "<table border=\"1\" class=\"dataframe\">\n",
              "  <thead>\n",
              "    <tr style=\"text-align: right;\">\n",
              "      <th></th>\n",
              "      <th>0</th>\n",
              "    </tr>\n",
              "  </thead>\n",
              "  <tbody>\n",
              "    <tr>\n",
              "      <th>age</th>\n",
              "      <td>0</td>\n",
              "    </tr>\n",
              "    <tr>\n",
              "      <th>sex</th>\n",
              "      <td>0</td>\n",
              "    </tr>\n",
              "    <tr>\n",
              "      <th>cp</th>\n",
              "      <td>0</td>\n",
              "    </tr>\n",
              "    <tr>\n",
              "      <th>trestbps</th>\n",
              "      <td>0</td>\n",
              "    </tr>\n",
              "    <tr>\n",
              "      <th>chol</th>\n",
              "      <td>0</td>\n",
              "    </tr>\n",
              "    <tr>\n",
              "      <th>fbs</th>\n",
              "      <td>0</td>\n",
              "    </tr>\n",
              "    <tr>\n",
              "      <th>restecg</th>\n",
              "      <td>0</td>\n",
              "    </tr>\n",
              "    <tr>\n",
              "      <th>thalach</th>\n",
              "      <td>0</td>\n",
              "    </tr>\n",
              "    <tr>\n",
              "      <th>exang</th>\n",
              "      <td>0</td>\n",
              "    </tr>\n",
              "    <tr>\n",
              "      <th>oldpeak</th>\n",
              "      <td>0</td>\n",
              "    </tr>\n",
              "    <tr>\n",
              "      <th>slope</th>\n",
              "      <td>0</td>\n",
              "    </tr>\n",
              "    <tr>\n",
              "      <th>ca</th>\n",
              "      <td>0</td>\n",
              "    </tr>\n",
              "    <tr>\n",
              "      <th>thal</th>\n",
              "      <td>0</td>\n",
              "    </tr>\n",
              "    <tr>\n",
              "      <th>target</th>\n",
              "      <td>0</td>\n",
              "    </tr>\n",
              "  </tbody>\n",
              "</table>\n",
              "</div><br><label><b>dtype:</b> int64</label>"
            ]
          },
          "metadata": {},
          "execution_count": 5
        }
      ]
    },
    {
      "cell_type": "markdown",
      "source": [
        "Greate News we don't have any missing values in our dataset"
      ],
      "metadata": {
        "id": "wrH8UgFHUDtM"
      }
    },
    {
      "cell_type": "code",
      "source": [
        "#checking the information of our dataset\n",
        "df.info()"
      ],
      "metadata": {
        "colab": {
          "base_uri": "https://localhost:8080/"
        },
        "id": "rhhoYaPYUCBR",
        "outputId": "500cd0fb-c5f1-4b81-c5c4-bf98ff736756"
      },
      "execution_count": 6,
      "outputs": [
        {
          "output_type": "stream",
          "name": "stdout",
          "text": [
            "<class 'pandas.core.frame.DataFrame'>\n",
            "RangeIndex: 1025 entries, 0 to 1024\n",
            "Data columns (total 14 columns):\n",
            " #   Column    Non-Null Count  Dtype  \n",
            "---  ------    --------------  -----  \n",
            " 0   age       1025 non-null   int64  \n",
            " 1   sex       1025 non-null   int64  \n",
            " 2   cp        1025 non-null   int64  \n",
            " 3   trestbps  1025 non-null   int64  \n",
            " 4   chol      1025 non-null   int64  \n",
            " 5   fbs       1025 non-null   int64  \n",
            " 6   restecg   1025 non-null   int64  \n",
            " 7   thalach   1025 non-null   int64  \n",
            " 8   exang     1025 non-null   int64  \n",
            " 9   oldpeak   1025 non-null   float64\n",
            " 10  slope     1025 non-null   int64  \n",
            " 11  ca        1025 non-null   int64  \n",
            " 12  thal      1025 non-null   int64  \n",
            " 13  target    1025 non-null   int64  \n",
            "dtypes: float64(1), int64(13)\n",
            "memory usage: 112.2 KB\n"
          ]
        }
      ]
    },
    {
      "cell_type": "markdown",
      "source": [
        "All of our columns have numerical entries thus we don't have any categorical columns .We won't be encoding the data frame because all of our inputs are numerical. We will be only scaling our data"
      ],
      "metadata": {
        "id": "ZjDKV2GdUSrQ"
      }
    },
    {
      "cell_type": "code",
      "source": [
        "#Determining Multicollinearity in our data\n",
        "corr=df.corr().drop(columns='target')\n",
        "corr"
      ],
      "metadata": {
        "colab": {
          "base_uri": "https://localhost:8080/",
          "height": 488
        },
        "id": "ee1ZGzGeUPnB",
        "outputId": "ab59bac1-b7b2-4dc4-f413-213325c35881"
      },
      "execution_count": 7,
      "outputs": [
        {
          "output_type": "execute_result",
          "data": {
            "text/plain": [
              "               age       sex        cp  trestbps      chol       fbs  \\\n",
              "age       1.000000 -0.103240 -0.071966  0.271121  0.219823  0.121243   \n",
              "sex      -0.103240  1.000000 -0.041119 -0.078974 -0.198258  0.027200   \n",
              "cp       -0.071966 -0.041119  1.000000  0.038177 -0.081641  0.079294   \n",
              "trestbps  0.271121 -0.078974  0.038177  1.000000  0.127977  0.181767   \n",
              "chol      0.219823 -0.198258 -0.081641  0.127977  1.000000  0.026917   \n",
              "fbs       0.121243  0.027200  0.079294  0.181767  0.026917  1.000000   \n",
              "restecg  -0.132696 -0.055117  0.043581 -0.123794 -0.147410 -0.104051   \n",
              "thalach  -0.390227 -0.049365  0.306839 -0.039264 -0.021772 -0.008866   \n",
              "exang     0.088163  0.139157 -0.401513  0.061197  0.067382  0.049261   \n",
              "oldpeak   0.208137  0.084687 -0.174733  0.187434  0.064880  0.010859   \n",
              "slope    -0.169105 -0.026666  0.131633 -0.120445 -0.014248 -0.061902   \n",
              "ca        0.271551  0.111729 -0.176206  0.104554  0.074259  0.137156   \n",
              "thal      0.072297  0.198424 -0.163341  0.059276  0.100244 -0.042177   \n",
              "target   -0.229324 -0.279501  0.434854 -0.138772 -0.099966 -0.041164   \n",
              "\n",
              "           restecg   thalach     exang   oldpeak     slope        ca      thal  \n",
              "age      -0.132696 -0.390227  0.088163  0.208137 -0.169105  0.271551  0.072297  \n",
              "sex      -0.055117 -0.049365  0.139157  0.084687 -0.026666  0.111729  0.198424  \n",
              "cp        0.043581  0.306839 -0.401513 -0.174733  0.131633 -0.176206 -0.163341  \n",
              "trestbps -0.123794 -0.039264  0.061197  0.187434 -0.120445  0.104554  0.059276  \n",
              "chol     -0.147410 -0.021772  0.067382  0.064880 -0.014248  0.074259  0.100244  \n",
              "fbs      -0.104051 -0.008866  0.049261  0.010859 -0.061902  0.137156 -0.042177  \n",
              "restecg   1.000000  0.048411 -0.065606 -0.050114  0.086086 -0.078072 -0.020504  \n",
              "thalach   0.048411  1.000000 -0.380281 -0.349796  0.395308 -0.207888 -0.098068  \n",
              "exang    -0.065606 -0.380281  1.000000  0.310844 -0.267335  0.107849  0.197201  \n",
              "oldpeak  -0.050114 -0.349796  0.310844  1.000000 -0.575189  0.221816  0.202672  \n",
              "slope     0.086086  0.395308 -0.267335 -0.575189  1.000000 -0.073440 -0.094090  \n",
              "ca       -0.078072 -0.207888  0.107849  0.221816 -0.073440  1.000000  0.149014  \n",
              "thal     -0.020504 -0.098068  0.197201  0.202672 -0.094090  0.149014  1.000000  \n",
              "target    0.134468  0.422895 -0.438029 -0.438441  0.345512 -0.382085 -0.337838  "
            ],
            "text/html": [
              "\n",
              "  <div id=\"df-4a9bc1f0-763b-48ab-a976-d8dc712c56e0\" class=\"colab-df-container\">\n",
              "    <div>\n",
              "<style scoped>\n",
              "    .dataframe tbody tr th:only-of-type {\n",
              "        vertical-align: middle;\n",
              "    }\n",
              "\n",
              "    .dataframe tbody tr th {\n",
              "        vertical-align: top;\n",
              "    }\n",
              "\n",
              "    .dataframe thead th {\n",
              "        text-align: right;\n",
              "    }\n",
              "</style>\n",
              "<table border=\"1\" class=\"dataframe\">\n",
              "  <thead>\n",
              "    <tr style=\"text-align: right;\">\n",
              "      <th></th>\n",
              "      <th>age</th>\n",
              "      <th>sex</th>\n",
              "      <th>cp</th>\n",
              "      <th>trestbps</th>\n",
              "      <th>chol</th>\n",
              "      <th>fbs</th>\n",
              "      <th>restecg</th>\n",
              "      <th>thalach</th>\n",
              "      <th>exang</th>\n",
              "      <th>oldpeak</th>\n",
              "      <th>slope</th>\n",
              "      <th>ca</th>\n",
              "      <th>thal</th>\n",
              "    </tr>\n",
              "  </thead>\n",
              "  <tbody>\n",
              "    <tr>\n",
              "      <th>age</th>\n",
              "      <td>1.000000</td>\n",
              "      <td>-0.103240</td>\n",
              "      <td>-0.071966</td>\n",
              "      <td>0.271121</td>\n",
              "      <td>0.219823</td>\n",
              "      <td>0.121243</td>\n",
              "      <td>-0.132696</td>\n",
              "      <td>-0.390227</td>\n",
              "      <td>0.088163</td>\n",
              "      <td>0.208137</td>\n",
              "      <td>-0.169105</td>\n",
              "      <td>0.271551</td>\n",
              "      <td>0.072297</td>\n",
              "    </tr>\n",
              "    <tr>\n",
              "      <th>sex</th>\n",
              "      <td>-0.103240</td>\n",
              "      <td>1.000000</td>\n",
              "      <td>-0.041119</td>\n",
              "      <td>-0.078974</td>\n",
              "      <td>-0.198258</td>\n",
              "      <td>0.027200</td>\n",
              "      <td>-0.055117</td>\n",
              "      <td>-0.049365</td>\n",
              "      <td>0.139157</td>\n",
              "      <td>0.084687</td>\n",
              "      <td>-0.026666</td>\n",
              "      <td>0.111729</td>\n",
              "      <td>0.198424</td>\n",
              "    </tr>\n",
              "    <tr>\n",
              "      <th>cp</th>\n",
              "      <td>-0.071966</td>\n",
              "      <td>-0.041119</td>\n",
              "      <td>1.000000</td>\n",
              "      <td>0.038177</td>\n",
              "      <td>-0.081641</td>\n",
              "      <td>0.079294</td>\n",
              "      <td>0.043581</td>\n",
              "      <td>0.306839</td>\n",
              "      <td>-0.401513</td>\n",
              "      <td>-0.174733</td>\n",
              "      <td>0.131633</td>\n",
              "      <td>-0.176206</td>\n",
              "      <td>-0.163341</td>\n",
              "    </tr>\n",
              "    <tr>\n",
              "      <th>trestbps</th>\n",
              "      <td>0.271121</td>\n",
              "      <td>-0.078974</td>\n",
              "      <td>0.038177</td>\n",
              "      <td>1.000000</td>\n",
              "      <td>0.127977</td>\n",
              "      <td>0.181767</td>\n",
              "      <td>-0.123794</td>\n",
              "      <td>-0.039264</td>\n",
              "      <td>0.061197</td>\n",
              "      <td>0.187434</td>\n",
              "      <td>-0.120445</td>\n",
              "      <td>0.104554</td>\n",
              "      <td>0.059276</td>\n",
              "    </tr>\n",
              "    <tr>\n",
              "      <th>chol</th>\n",
              "      <td>0.219823</td>\n",
              "      <td>-0.198258</td>\n",
              "      <td>-0.081641</td>\n",
              "      <td>0.127977</td>\n",
              "      <td>1.000000</td>\n",
              "      <td>0.026917</td>\n",
              "      <td>-0.147410</td>\n",
              "      <td>-0.021772</td>\n",
              "      <td>0.067382</td>\n",
              "      <td>0.064880</td>\n",
              "      <td>-0.014248</td>\n",
              "      <td>0.074259</td>\n",
              "      <td>0.100244</td>\n",
              "    </tr>\n",
              "    <tr>\n",
              "      <th>fbs</th>\n",
              "      <td>0.121243</td>\n",
              "      <td>0.027200</td>\n",
              "      <td>0.079294</td>\n",
              "      <td>0.181767</td>\n",
              "      <td>0.026917</td>\n",
              "      <td>1.000000</td>\n",
              "      <td>-0.104051</td>\n",
              "      <td>-0.008866</td>\n",
              "      <td>0.049261</td>\n",
              "      <td>0.010859</td>\n",
              "      <td>-0.061902</td>\n",
              "      <td>0.137156</td>\n",
              "      <td>-0.042177</td>\n",
              "    </tr>\n",
              "    <tr>\n",
              "      <th>restecg</th>\n",
              "      <td>-0.132696</td>\n",
              "      <td>-0.055117</td>\n",
              "      <td>0.043581</td>\n",
              "      <td>-0.123794</td>\n",
              "      <td>-0.147410</td>\n",
              "      <td>-0.104051</td>\n",
              "      <td>1.000000</td>\n",
              "      <td>0.048411</td>\n",
              "      <td>-0.065606</td>\n",
              "      <td>-0.050114</td>\n",
              "      <td>0.086086</td>\n",
              "      <td>-0.078072</td>\n",
              "      <td>-0.020504</td>\n",
              "    </tr>\n",
              "    <tr>\n",
              "      <th>thalach</th>\n",
              "      <td>-0.390227</td>\n",
              "      <td>-0.049365</td>\n",
              "      <td>0.306839</td>\n",
              "      <td>-0.039264</td>\n",
              "      <td>-0.021772</td>\n",
              "      <td>-0.008866</td>\n",
              "      <td>0.048411</td>\n",
              "      <td>1.000000</td>\n",
              "      <td>-0.380281</td>\n",
              "      <td>-0.349796</td>\n",
              "      <td>0.395308</td>\n",
              "      <td>-0.207888</td>\n",
              "      <td>-0.098068</td>\n",
              "    </tr>\n",
              "    <tr>\n",
              "      <th>exang</th>\n",
              "      <td>0.088163</td>\n",
              "      <td>0.139157</td>\n",
              "      <td>-0.401513</td>\n",
              "      <td>0.061197</td>\n",
              "      <td>0.067382</td>\n",
              "      <td>0.049261</td>\n",
              "      <td>-0.065606</td>\n",
              "      <td>-0.380281</td>\n",
              "      <td>1.000000</td>\n",
              "      <td>0.310844</td>\n",
              "      <td>-0.267335</td>\n",
              "      <td>0.107849</td>\n",
              "      <td>0.197201</td>\n",
              "    </tr>\n",
              "    <tr>\n",
              "      <th>oldpeak</th>\n",
              "      <td>0.208137</td>\n",
              "      <td>0.084687</td>\n",
              "      <td>-0.174733</td>\n",
              "      <td>0.187434</td>\n",
              "      <td>0.064880</td>\n",
              "      <td>0.010859</td>\n",
              "      <td>-0.050114</td>\n",
              "      <td>-0.349796</td>\n",
              "      <td>0.310844</td>\n",
              "      <td>1.000000</td>\n",
              "      <td>-0.575189</td>\n",
              "      <td>0.221816</td>\n",
              "      <td>0.202672</td>\n",
              "    </tr>\n",
              "    <tr>\n",
              "      <th>slope</th>\n",
              "      <td>-0.169105</td>\n",
              "      <td>-0.026666</td>\n",
              "      <td>0.131633</td>\n",
              "      <td>-0.120445</td>\n",
              "      <td>-0.014248</td>\n",
              "      <td>-0.061902</td>\n",
              "      <td>0.086086</td>\n",
              "      <td>0.395308</td>\n",
              "      <td>-0.267335</td>\n",
              "      <td>-0.575189</td>\n",
              "      <td>1.000000</td>\n",
              "      <td>-0.073440</td>\n",
              "      <td>-0.094090</td>\n",
              "    </tr>\n",
              "    <tr>\n",
              "      <th>ca</th>\n",
              "      <td>0.271551</td>\n",
              "      <td>0.111729</td>\n",
              "      <td>-0.176206</td>\n",
              "      <td>0.104554</td>\n",
              "      <td>0.074259</td>\n",
              "      <td>0.137156</td>\n",
              "      <td>-0.078072</td>\n",
              "      <td>-0.207888</td>\n",
              "      <td>0.107849</td>\n",
              "      <td>0.221816</td>\n",
              "      <td>-0.073440</td>\n",
              "      <td>1.000000</td>\n",
              "      <td>0.149014</td>\n",
              "    </tr>\n",
              "    <tr>\n",
              "      <th>thal</th>\n",
              "      <td>0.072297</td>\n",
              "      <td>0.198424</td>\n",
              "      <td>-0.163341</td>\n",
              "      <td>0.059276</td>\n",
              "      <td>0.100244</td>\n",
              "      <td>-0.042177</td>\n",
              "      <td>-0.020504</td>\n",
              "      <td>-0.098068</td>\n",
              "      <td>0.197201</td>\n",
              "      <td>0.202672</td>\n",
              "      <td>-0.094090</td>\n",
              "      <td>0.149014</td>\n",
              "      <td>1.000000</td>\n",
              "    </tr>\n",
              "    <tr>\n",
              "      <th>target</th>\n",
              "      <td>-0.229324</td>\n",
              "      <td>-0.279501</td>\n",
              "      <td>0.434854</td>\n",
              "      <td>-0.138772</td>\n",
              "      <td>-0.099966</td>\n",
              "      <td>-0.041164</td>\n",
              "      <td>0.134468</td>\n",
              "      <td>0.422895</td>\n",
              "      <td>-0.438029</td>\n",
              "      <td>-0.438441</td>\n",
              "      <td>0.345512</td>\n",
              "      <td>-0.382085</td>\n",
              "      <td>-0.337838</td>\n",
              "    </tr>\n",
              "  </tbody>\n",
              "</table>\n",
              "</div>\n",
              "    <div class=\"colab-df-buttons\">\n",
              "\n",
              "  <div class=\"colab-df-container\">\n",
              "    <button class=\"colab-df-convert\" onclick=\"convertToInteractive('df-4a9bc1f0-763b-48ab-a976-d8dc712c56e0')\"\n",
              "            title=\"Convert this dataframe to an interactive table.\"\n",
              "            style=\"display:none;\">\n",
              "\n",
              "  <svg xmlns=\"http://www.w3.org/2000/svg\" height=\"24px\" viewBox=\"0 -960 960 960\">\n",
              "    <path d=\"M120-120v-720h720v720H120Zm60-500h600v-160H180v160Zm220 220h160v-160H400v160Zm0 220h160v-160H400v160ZM180-400h160v-160H180v160Zm440 0h160v-160H620v160ZM180-180h160v-160H180v160Zm440 0h160v-160H620v160Z\"/>\n",
              "  </svg>\n",
              "    </button>\n",
              "\n",
              "  <style>\n",
              "    .colab-df-container {\n",
              "      display:flex;\n",
              "      gap: 12px;\n",
              "    }\n",
              "\n",
              "    .colab-df-convert {\n",
              "      background-color: #E8F0FE;\n",
              "      border: none;\n",
              "      border-radius: 50%;\n",
              "      cursor: pointer;\n",
              "      display: none;\n",
              "      fill: #1967D2;\n",
              "      height: 32px;\n",
              "      padding: 0 0 0 0;\n",
              "      width: 32px;\n",
              "    }\n",
              "\n",
              "    .colab-df-convert:hover {\n",
              "      background-color: #E2EBFA;\n",
              "      box-shadow: 0px 1px 2px rgba(60, 64, 67, 0.3), 0px 1px 3px 1px rgba(60, 64, 67, 0.15);\n",
              "      fill: #174EA6;\n",
              "    }\n",
              "\n",
              "    .colab-df-buttons div {\n",
              "      margin-bottom: 4px;\n",
              "    }\n",
              "\n",
              "    [theme=dark] .colab-df-convert {\n",
              "      background-color: #3B4455;\n",
              "      fill: #D2E3FC;\n",
              "    }\n",
              "\n",
              "    [theme=dark] .colab-df-convert:hover {\n",
              "      background-color: #434B5C;\n",
              "      box-shadow: 0px 1px 3px 1px rgba(0, 0, 0, 0.15);\n",
              "      filter: drop-shadow(0px 1px 2px rgba(0, 0, 0, 0.3));\n",
              "      fill: #FFFFFF;\n",
              "    }\n",
              "  </style>\n",
              "\n",
              "    <script>\n",
              "      const buttonEl =\n",
              "        document.querySelector('#df-4a9bc1f0-763b-48ab-a976-d8dc712c56e0 button.colab-df-convert');\n",
              "      buttonEl.style.display =\n",
              "        google.colab.kernel.accessAllowed ? 'block' : 'none';\n",
              "\n",
              "      async function convertToInteractive(key) {\n",
              "        const element = document.querySelector('#df-4a9bc1f0-763b-48ab-a976-d8dc712c56e0');\n",
              "        const dataTable =\n",
              "          await google.colab.kernel.invokeFunction('convertToInteractive',\n",
              "                                                    [key], {});\n",
              "        if (!dataTable) return;\n",
              "\n",
              "        const docLinkHtml = 'Like what you see? Visit the ' +\n",
              "          '<a target=\"_blank\" href=https://colab.research.google.com/notebooks/data_table.ipynb>data table notebook</a>'\n",
              "          + ' to learn more about interactive tables.';\n",
              "        element.innerHTML = '';\n",
              "        dataTable['output_type'] = 'display_data';\n",
              "        await google.colab.output.renderOutput(dataTable, element);\n",
              "        const docLink = document.createElement('div');\n",
              "        docLink.innerHTML = docLinkHtml;\n",
              "        element.appendChild(docLink);\n",
              "      }\n",
              "    </script>\n",
              "  </div>\n",
              "\n",
              "\n",
              "    <div id=\"df-230ad452-fc2e-4c4c-b894-e1fa16ab3fe4\">\n",
              "      <button class=\"colab-df-quickchart\" onclick=\"quickchart('df-230ad452-fc2e-4c4c-b894-e1fa16ab3fe4')\"\n",
              "                title=\"Suggest charts\"\n",
              "                style=\"display:none;\">\n",
              "\n",
              "<svg xmlns=\"http://www.w3.org/2000/svg\" height=\"24px\"viewBox=\"0 0 24 24\"\n",
              "     width=\"24px\">\n",
              "    <g>\n",
              "        <path d=\"M19 3H5c-1.1 0-2 .9-2 2v14c0 1.1.9 2 2 2h14c1.1 0 2-.9 2-2V5c0-1.1-.9-2-2-2zM9 17H7v-7h2v7zm4 0h-2V7h2v10zm4 0h-2v-4h2v4z\"/>\n",
              "    </g>\n",
              "</svg>\n",
              "      </button>\n",
              "\n",
              "<style>\n",
              "  .colab-df-quickchart {\n",
              "      --bg-color: #E8F0FE;\n",
              "      --fill-color: #1967D2;\n",
              "      --hover-bg-color: #E2EBFA;\n",
              "      --hover-fill-color: #174EA6;\n",
              "      --disabled-fill-color: #AAA;\n",
              "      --disabled-bg-color: #DDD;\n",
              "  }\n",
              "\n",
              "  [theme=dark] .colab-df-quickchart {\n",
              "      --bg-color: #3B4455;\n",
              "      --fill-color: #D2E3FC;\n",
              "      --hover-bg-color: #434B5C;\n",
              "      --hover-fill-color: #FFFFFF;\n",
              "      --disabled-bg-color: #3B4455;\n",
              "      --disabled-fill-color: #666;\n",
              "  }\n",
              "\n",
              "  .colab-df-quickchart {\n",
              "    background-color: var(--bg-color);\n",
              "    border: none;\n",
              "    border-radius: 50%;\n",
              "    cursor: pointer;\n",
              "    display: none;\n",
              "    fill: var(--fill-color);\n",
              "    height: 32px;\n",
              "    padding: 0;\n",
              "    width: 32px;\n",
              "  }\n",
              "\n",
              "  .colab-df-quickchart:hover {\n",
              "    background-color: var(--hover-bg-color);\n",
              "    box-shadow: 0 1px 2px rgba(60, 64, 67, 0.3), 0 1px 3px 1px rgba(60, 64, 67, 0.15);\n",
              "    fill: var(--button-hover-fill-color);\n",
              "  }\n",
              "\n",
              "  .colab-df-quickchart-complete:disabled,\n",
              "  .colab-df-quickchart-complete:disabled:hover {\n",
              "    background-color: var(--disabled-bg-color);\n",
              "    fill: var(--disabled-fill-color);\n",
              "    box-shadow: none;\n",
              "  }\n",
              "\n",
              "  .colab-df-spinner {\n",
              "    border: 2px solid var(--fill-color);\n",
              "    border-color: transparent;\n",
              "    border-bottom-color: var(--fill-color);\n",
              "    animation:\n",
              "      spin 1s steps(1) infinite;\n",
              "  }\n",
              "\n",
              "  @keyframes spin {\n",
              "    0% {\n",
              "      border-color: transparent;\n",
              "      border-bottom-color: var(--fill-color);\n",
              "      border-left-color: var(--fill-color);\n",
              "    }\n",
              "    20% {\n",
              "      border-color: transparent;\n",
              "      border-left-color: var(--fill-color);\n",
              "      border-top-color: var(--fill-color);\n",
              "    }\n",
              "    30% {\n",
              "      border-color: transparent;\n",
              "      border-left-color: var(--fill-color);\n",
              "      border-top-color: var(--fill-color);\n",
              "      border-right-color: var(--fill-color);\n",
              "    }\n",
              "    40% {\n",
              "      border-color: transparent;\n",
              "      border-right-color: var(--fill-color);\n",
              "      border-top-color: var(--fill-color);\n",
              "    }\n",
              "    60% {\n",
              "      border-color: transparent;\n",
              "      border-right-color: var(--fill-color);\n",
              "    }\n",
              "    80% {\n",
              "      border-color: transparent;\n",
              "      border-right-color: var(--fill-color);\n",
              "      border-bottom-color: var(--fill-color);\n",
              "    }\n",
              "    90% {\n",
              "      border-color: transparent;\n",
              "      border-bottom-color: var(--fill-color);\n",
              "    }\n",
              "  }\n",
              "</style>\n",
              "\n",
              "      <script>\n",
              "        async function quickchart(key) {\n",
              "          const quickchartButtonEl =\n",
              "            document.querySelector('#' + key + ' button');\n",
              "          quickchartButtonEl.disabled = true;  // To prevent multiple clicks.\n",
              "          quickchartButtonEl.classList.add('colab-df-spinner');\n",
              "          try {\n",
              "            const charts = await google.colab.kernel.invokeFunction(\n",
              "                'suggestCharts', [key], {});\n",
              "          } catch (error) {\n",
              "            console.error('Error during call to suggestCharts:', error);\n",
              "          }\n",
              "          quickchartButtonEl.classList.remove('colab-df-spinner');\n",
              "          quickchartButtonEl.classList.add('colab-df-quickchart-complete');\n",
              "        }\n",
              "        (() => {\n",
              "          let quickchartButtonEl =\n",
              "            document.querySelector('#df-230ad452-fc2e-4c4c-b894-e1fa16ab3fe4 button');\n",
              "          quickchartButtonEl.style.display =\n",
              "            google.colab.kernel.accessAllowed ? 'block' : 'none';\n",
              "        })();\n",
              "      </script>\n",
              "    </div>\n",
              "\n",
              "  <div id=\"id_e8e4fec9-219c-4fa8-8d36-c2e7082b5a8b\">\n",
              "    <style>\n",
              "      .colab-df-generate {\n",
              "        background-color: #E8F0FE;\n",
              "        border: none;\n",
              "        border-radius: 50%;\n",
              "        cursor: pointer;\n",
              "        display: none;\n",
              "        fill: #1967D2;\n",
              "        height: 32px;\n",
              "        padding: 0 0 0 0;\n",
              "        width: 32px;\n",
              "      }\n",
              "\n",
              "      .colab-df-generate:hover {\n",
              "        background-color: #E2EBFA;\n",
              "        box-shadow: 0px 1px 2px rgba(60, 64, 67, 0.3), 0px 1px 3px 1px rgba(60, 64, 67, 0.15);\n",
              "        fill: #174EA6;\n",
              "      }\n",
              "\n",
              "      [theme=dark] .colab-df-generate {\n",
              "        background-color: #3B4455;\n",
              "        fill: #D2E3FC;\n",
              "      }\n",
              "\n",
              "      [theme=dark] .colab-df-generate:hover {\n",
              "        background-color: #434B5C;\n",
              "        box-shadow: 0px 1px 3px 1px rgba(0, 0, 0, 0.15);\n",
              "        filter: drop-shadow(0px 1px 2px rgba(0, 0, 0, 0.3));\n",
              "        fill: #FFFFFF;\n",
              "      }\n",
              "    </style>\n",
              "    <button class=\"colab-df-generate\" onclick=\"generateWithVariable('corr')\"\n",
              "            title=\"Generate code using this dataframe.\"\n",
              "            style=\"display:none;\">\n",
              "\n",
              "  <svg xmlns=\"http://www.w3.org/2000/svg\" height=\"24px\"viewBox=\"0 0 24 24\"\n",
              "       width=\"24px\">\n",
              "    <path d=\"M7,19H8.4L18.45,9,17,7.55,7,17.6ZM5,21V16.75L18.45,3.32a2,2,0,0,1,2.83,0l1.4,1.43a1.91,1.91,0,0,1,.58,1.4,1.91,1.91,0,0,1-.58,1.4L9.25,21ZM18.45,9,17,7.55Zm-12,3A5.31,5.31,0,0,0,4.9,8.1,5.31,5.31,0,0,0,1,6.5,5.31,5.31,0,0,0,4.9,4.9,5.31,5.31,0,0,0,6.5,1,5.31,5.31,0,0,0,8.1,4.9,5.31,5.31,0,0,0,12,6.5,5.46,5.46,0,0,0,6.5,12Z\"/>\n",
              "  </svg>\n",
              "    </button>\n",
              "    <script>\n",
              "      (() => {\n",
              "      const buttonEl =\n",
              "        document.querySelector('#id_e8e4fec9-219c-4fa8-8d36-c2e7082b5a8b button.colab-df-generate');\n",
              "      buttonEl.style.display =\n",
              "        google.colab.kernel.accessAllowed ? 'block' : 'none';\n",
              "\n",
              "      buttonEl.onclick = () => {\n",
              "        google.colab.notebook.generateWithVariable('corr');\n",
              "      }\n",
              "      })();\n",
              "    </script>\n",
              "  </div>\n",
              "\n",
              "    </div>\n",
              "  </div>\n"
            ],
            "application/vnd.google.colaboratory.intrinsic+json": {
              "type": "dataframe",
              "variable_name": "corr",
              "summary": "{\n  \"name\": \"corr\",\n  \"rows\": 14,\n  \"fields\": [\n    {\n      \"column\": \"age\",\n      \"properties\": {\n        \"dtype\": \"number\",\n        \"std\": 0.33259842336239787,\n        \"min\": -0.3902270750315936,\n        \"max\": 1.0,\n        \"num_unique_values\": 14,\n        \"samples\": [\n          0.208136677428114,\n          0.2715505294833465,\n          1.0\n        ],\n        \"semantic_type\": \"\",\n        \"description\": \"\"\n      }\n    },\n    {\n      \"column\": \"sex\",\n      \"properties\": {\n        \"dtype\": \"number\",\n        \"std\": 0.3017099052737305,\n        \"min\": -0.2795007572922624,\n        \"max\": 1.0,\n        \"num_unique_values\": 14,\n        \"samples\": [\n          0.08468655858668674,\n          0.11172891299897984,\n          -0.10324029759435555\n        ],\n        \"semantic_type\": \"\",\n        \"description\": \"\"\n      }\n    },\n    {\n      \"column\": \"cp\",\n      \"properties\": {\n        \"dtype\": \"number\",\n        \"std\": 0.3410688423361073,\n        \"min\": -0.40151271399953703,\n        \"max\": 1.0,\n        \"num_unique_values\": 14,\n        \"samples\": [\n          -0.17473347696619906,\n          -0.17620646750862637,\n          -0.07196627394150716\n        ],\n        \"semantic_type\": \"\",\n        \"description\": \"\"\n      }\n    },\n    {\n      \"column\": \"trestbps\",\n      \"properties\": {\n        \"dtype\": \"number\",\n        \"std\": 0.2865321475051757,\n        \"min\": -0.13877173373730078,\n        \"max\": 1.0,\n        \"num_unique_values\": 14,\n        \"samples\": [\n          0.1874341067530995,\n          0.10455371947153318,\n          0.27112140631607556\n        ],\n        \"semantic_type\": \"\",\n        \"description\": \"\"\n      }\n    },\n    {\n      \"column\": \"chol\",\n      \"properties\": {\n        \"dtype\": \"number\",\n        \"std\": 0.28807034905215667,\n        \"min\": -0.19825787170698492,\n        \"max\": 1.0,\n        \"num_unique_values\": 14,\n        \"samples\": [\n          0.064880314991909,\n          0.07425934349094815,\n          0.21982253466576057\n        ],\n        \"semantic_type\": \"\",\n        \"description\": \"\"\n      }\n    },\n    {\n      \"column\": \"fbs\",\n      \"properties\": {\n        \"dtype\": \"number\",\n        \"std\": 0.27173341885402624,\n        \"min\": -0.10405124404734181,\n        \"max\": 1.0,\n        \"num_unique_values\": 14,\n        \"samples\": [\n          0.01085948055953624,\n          0.13715625949608365,\n          0.12124347870535487\n        ],\n        \"semantic_type\": \"\",\n        \"description\": \"\"\n      }\n    },\n    {\n      \"column\": \"restecg\",\n      \"properties\": {\n        \"dtype\": \"number\",\n        \"std\": 0.2897128244944697,\n        \"min\": -0.1474102406316102,\n        \"max\": 1.0,\n        \"num_unique_values\": 14,\n        \"samples\": [\n          -0.05011424982378405,\n          -0.07807235470415402,\n          -0.1326961679672904\n        ],\n        \"semantic_type\": \"\",\n        \"description\": \"\"\n      }\n    },\n    {\n      \"column\": \"thalach\",\n      \"properties\": {\n        \"dtype\": \"number\",\n        \"std\": 0.3802887051076614,\n        \"min\": -0.3902270750315936,\n        \"max\": 1.0,\n        \"num_unique_values\": 14,\n        \"samples\": [\n          -0.3497961631423949,\n          -0.2078884163068212,\n          -0.3902270750315936\n        ],\n        \"semantic_type\": \"\",\n        \"description\": \"\"\n      }\n    },\n    {\n      \"column\": \"exang\",\n      \"properties\": {\n        \"dtype\": \"number\",\n        \"std\": 0.3661437519656243,\n        \"min\": -0.438028550055846,\n        \"max\": 1.0,\n        \"num_unique_values\": 14,\n        \"samples\": [\n          0.3108437605071181,\n          0.10784854280195343,\n          0.08816338342423416\n        ],\n        \"semantic_type\": \"\",\n        \"description\": \"\"\n      }\n    },\n    {\n      \"column\": \"oldpeak\",\n      \"properties\": {\n        \"dtype\": \"number\",\n        \"std\": 0.38430964587364863,\n        \"min\": -0.575188536437517,\n        \"max\": 1.0,\n        \"num_unique_values\": 14,\n        \"samples\": [\n          1.0,\n          0.2218160279873609,\n          0.208136677428114\n        ],\n        \"semantic_type\": \"\",\n        \"description\": \"\"\n      }\n    },\n    {\n      \"column\": \"slope\",\n      \"properties\": {\n        \"dtype\": \"number\",\n        \"std\": 0.3661336845343415,\n        \"min\": -0.575188536437517,\n        \"max\": 1.0,\n        \"num_unique_values\": 14,\n        \"samples\": [\n          -0.575188536437517,\n          -0.07344040956153476,\n          -0.16910511083470264\n        ],\n        \"semantic_type\": \"\",\n        \"description\": \"\"\n      }\n    },\n    {\n      \"column\": \"ca\",\n      \"properties\": {\n        \"dtype\": \"number\",\n        \"std\": 0.3189914028958155,\n        \"min\": -0.3820852890386709,\n        \"max\": 1.0,\n        \"num_unique_values\": 14,\n        \"samples\": [\n          0.2218160279873609,\n          1.0,\n          0.2715505294833465\n        ],\n        \"semantic_type\": \"\",\n        \"description\": \"\"\n      }\n    },\n    {\n      \"column\": \"thal\",\n      \"properties\": {\n        \"dtype\": \"number\",\n        \"std\": 0.30570960815961656,\n        \"min\": -0.3378381504571859,\n        \"max\": 1.0,\n        \"num_unique_values\": 14,\n        \"samples\": [\n          0.2026720266321033,\n          0.14901386792642793,\n          0.07229744773281883\n        ],\n        \"semantic_type\": \"\",\n        \"description\": \"\"\n      }\n    }\n  ]\n}"
            }
          },
          "metadata": {},
          "execution_count": 7
        }
      ]
    },
    {
      "cell_type": "code",
      "source": [
        "#lets put our corr in avisualization to get a better visualization\n",
        "import seaborn as sns\n",
        "import matplotlib.pyplot as plt\n",
        "plt.figure(figsize=(10,10))\n",
        "sns.heatmap(corr);"
      ],
      "metadata": {
        "colab": {
          "base_uri": "https://localhost:8080/",
          "height": 879
        },
        "id": "otdRVUotU0II",
        "outputId": "c9992ee9-9162-44db-e196-d52fd5667602"
      },
      "execution_count": 8,
      "outputs": [
        {
          "output_type": "display_data",
          "data": {
            "text/plain": [
              "<Figure size 1000x1000 with 2 Axes>"
            ],
            "image/png": "[encoded data removed]"
          },
          "metadata": {}
        }
      ]
    },
    {
      "cell_type": "markdown",
      "source": [
        "All of the columns have a correlation of below 0.5 so we don't have multicollinearity in our dataset."
      ],
      "metadata": {
        "id": "u5Fcf2bTVpKa"
      }
    },
    {
      "cell_type": "markdown",
      "source": [
        "####5.2.3 Creating Inputs and Outputs"
      ],
      "metadata": {
        "id": "JKoaP4fQVJv-"
      }
    },
    {
      "cell_type": "code",
      "source": [
        "#Creting inputs and outputs\n",
        "label = 'target'\n",
        "inputs =df[[col for col in df.columns if col not in label]]\n",
        "targets = df[label]"
      ],
      "metadata": {
        "id": "LF_2DvvGWBWC"
      },
      "execution_count": 9,
      "outputs": []
    },
    {
      "cell_type": "code",
      "source": [
        "#inspect the inputs\n",
        "inputs.head()"
      ],
      "metadata": {
        "colab": {
          "base_uri": "https://localhost:8080/",
          "height": 206
        },
        "id": "aEXCWaRYWXog",
        "outputId": "7b228411-92d8-4492-e2b5-899ce6e5fc02"
      },
      "execution_count": 10,
      "outputs": [
        {
          "output_type": "execute_result",
          "data": {
            "text/plain": [
              "   age  sex  cp  trestbps  chol  fbs  restecg  thalach  exang  oldpeak  slope  \\\n",
              "0   52    1   0       125   212    0        1      168      0      1.0      2   \n",
              "1   53    1   0       140   203    1        0      155      1      3.1      0   \n",
              "2   70    1   0       145   174    0        1      125      1      2.6      0   \n",
              "3   61    1   0       148   203    0        1      161      0      0.0      2   \n",
              "4   62    0   0       138   294    1        1      106      0      1.9      1   \n",
              "\n",
              "   ca  thal  \n",
              "0   2     3  \n",
              "1   0     3  \n",
              "2   0     3  \n",
              "3   1     3  \n",
              "4   3     2  "
            ],
            "text/html": [
              "\n",
              "  <div id=\"df-82b8e259-7a77-4472-b62c-1492ba3eee0b\" class=\"colab-df-container\">\n",
              "    <div>\n",
              "<style scoped>\n",
              "    .dataframe tbody tr th:only-of-type {\n",
              "        vertical-align: middle;\n",
              "    }\n",
              "\n",
              "    .dataframe tbody tr th {\n",
              "        vertical-align: top;\n",
              "    }\n",
              "\n",
              "    .dataframe thead th {\n",
              "        text-align: right;\n",
              "    }\n",
              "</style>\n",
              "<table border=\"1\" class=\"dataframe\">\n",
              "  <thead>\n",
              "    <tr style=\"text-align: right;\">\n",
              "      <th></th>\n",
              "      <th>age</th>\n",
              "      <th>sex</th>\n",
              "      <th>cp</th>\n",
              "      <th>trestbps</th>\n",
              "      <th>chol</th>\n",
              "      <th>fbs</th>\n",
              "      <th>restecg</th>\n",
              "      <th>thalach</th>\n",
              "      <th>exang</th>\n",
              "      <th>oldpeak</th>\n",
              "      <th>slope</th>\n",
              "      <th>ca</th>\n",
              "      <th>thal</th>\n",
              "    </tr>\n",
              "  </thead>\n",
              "  <tbody>\n",
              "    <tr>\n",
              "      <th>0</th>\n",
              "      <td>52</td>\n",
              "      <td>1</td>\n",
              "      <td>0</td>\n",
              "      <td>125</td>\n",
              "      <td>212</td>\n",
              "      <td>0</td>\n",
              "      <td>1</td>\n",
              "      <td>168</td>\n",
              "      <td>0</td>\n",
              "      <td>1.0</td>\n",
              "      <td>2</td>\n",
              "      <td>2</td>\n",
              "      <td>3</td>\n",
              "    </tr>\n",
              "    <tr>\n",
              "      <th>1</th>\n",
              "      <td>53</td>\n",
              "      <td>1</td>\n",
              "      <td>0</td>\n",
              "      <td>140</td>\n",
              "      <td>203</td>\n",
              "      <td>1</td>\n",
              "      <td>0</td>\n",
              "      <td>155</td>\n",
              "      <td>1</td>\n",
              "      <td>3.1</td>\n",
              "      <td>0</td>\n",
              "      <td>0</td>\n",
              "      <td>3</td>\n",
              "    </tr>\n",
              "    <tr>\n",
              "      <th>2</th>\n",
              "      <td>70</td>\n",
              "      <td>1</td>\n",
              "      <td>0</td>\n",
              "      <td>145</td>\n",
              "      <td>174</td>\n",
              "      <td>0</td>\n",
              "      <td>1</td>\n",
              "      <td>125</td>\n",
              "      <td>1</td>\n",
              "      <td>2.6</td>\n",
              "      <td>0</td>\n",
              "      <td>0</td>\n",
              "      <td>3</td>\n",
              "    </tr>\n",
              "    <tr>\n",
              "      <th>3</th>\n",
              "      <td>61</td>\n",
              "      <td>1</td>\n",
              "      <td>0</td>\n",
              "      <td>148</td>\n",
              "      <td>203</td>\n",
              "      <td>0</td>\n",
              "      <td>1</td>\n",
              "      <td>161</td>\n",
              "      <td>0</td>\n",
              "      <td>0.0</td>\n",
              "      <td>2</td>\n",
              "      <td>1</td>\n",
              "      <td>3</td>\n",
              "    </tr>\n",
              "    <tr>\n",
              "      <th>4</th>\n",
              "      <td>62</td>\n",
              "      <td>0</td>\n",
              "      <td>0</td>\n",
              "      <td>138</td>\n",
              "      <td>294</td>\n",
              "      <td>1</td>\n",
              "      <td>1</td>\n",
              "      <td>106</td>\n",
              "      <td>0</td>\n",
              "      <td>1.9</td>\n",
              "      <td>1</td>\n",
              "      <td>3</td>\n",
              "      <td>2</td>\n",
              "    </tr>\n",
              "  </tbody>\n",
              "</table>\n",
              "</div>\n",
              "    <div class=\"colab-df-buttons\">\n",
              "\n",
              "  <div class=\"colab-df-container\">\n",
              "    <button class=\"colab-df-convert\" onclick=\"convertToInteractive('df-82b8e259-7a77-4472-b62c-1492ba3eee0b')\"\n",
              "            title=\"Convert this dataframe to an interactive table.\"\n",
              "            style=\"display:none;\">\n",
              "\n",
              "  <svg xmlns=\"http://www.w3.org/2000/svg\" height=\"24px\" viewBox=\"0 -960 960 960\">\n",
              "    <path d=\"M120-120v-720h720v720H120Zm60-500h600v-160H180v160Zm220 220h160v-160H400v160Zm0 220h160v-160H400v160ZM180-400h160v-160H180v160Zm440 0h160v-160H620v160ZM180-180h160v-160H180v160Zm440 0h160v-160H620v160Z\"/>\n",
              "  </svg>\n",
              "    </button>\n",
              "\n",
              "  <style>\n",
              "    .colab-df-container {\n",
              "      display:flex;\n",
              "      gap: 12px;\n",
              "    }\n",
              "\n",
              "    .colab-df-convert {\n",
              "      background-color: #E8F0FE;\n",
              "      border: none;\n",
              "      border-radius: 50%;\n",
              "      cursor: pointer;\n",
              "      display: none;\n",
              "      fill: #1967D2;\n",
              "      height: 32px;\n",
              "      padding: 0 0 0 0;\n",
              "      width: 32px;\n",
              "    }\n",
              "\n",
              "    .colab-df-convert:hover {\n",
              "      background-color: #E2EBFA;\n",
              "      box-shadow: 0px 1px 2px rgba(60, 64, 67, 0.3), 0px 1px 3px 1px rgba(60, 64, 67, 0.15);\n",
              "      fill: #174EA6;\n",
              "    }\n",
              "\n",
              "    .colab-df-buttons div {\n",
              "      margin-bottom: 4px;\n",
              "    }\n",
              "\n",
              "    [theme=dark] .colab-df-convert {\n",
              "      background-color: #3B4455;\n",
              "      fill: #D2E3FC;\n",
              "    }\n",
              "\n",
              "    [theme=dark] .colab-df-convert:hover {\n",
              "      background-color: #434B5C;\n",
              "      box-shadow: 0px 1px 3px 1px rgba(0, 0, 0, 0.15);\n",
              "      filter: drop-shadow(0px 1px 2px rgba(0, 0, 0, 0.3));\n",
              "      fill: #FFFFFF;\n",
              "    }\n",
              "  </style>\n",
              "\n",
              "    <script>\n",
              "      const buttonEl =\n",
              "        document.querySelector('#df-82b8e259-7a77-4472-b62c-1492ba3eee0b button.colab-df-convert');\n",
              "      buttonEl.style.display =\n",
              "        google.colab.kernel.accessAllowed ? 'block' : 'none';\n",
              "\n",
              "      async function convertToInteractive(key) {\n",
              "        const element = document.querySelector('#df-82b8e259-7a77-4472-b62c-1492ba3eee0b');\n",
              "        const dataTable =\n",
              "          await google.colab.kernel.invokeFunction('convertToInteractive',\n",
              "                                                    [key], {});\n",
              "        if (!dataTable) return;\n",
              "\n",
              "        const docLinkHtml = 'Like what you see? Visit the ' +\n",
              "          '<a target=\"_blank\" href=https://colab.research.google.com/notebooks/data_table.ipynb>data table notebook</a>'\n",
              "          + ' to learn more about interactive tables.';\n",
              "        element.innerHTML = '';\n",
              "        dataTable['output_type'] = 'display_data';\n",
              "        await google.colab.output.renderOutput(dataTable, element);\n",
              "        const docLink = document.createElement('div');\n",
              "        docLink.innerHTML = docLinkHtml;\n",
              "        element.appendChild(docLink);\n",
              "      }\n",
              "    </script>\n",
              "  </div>\n",
              "\n",
              "\n",
              "    <div id=\"df-886ee53a-ef86-4ef0-ae3f-f7151ce5b324\">\n",
              "      <button class=\"colab-df-quickchart\" onclick=\"quickchart('df-886ee53a-ef86-4ef0-ae3f-f7151ce5b324')\"\n",
              "                title=\"Suggest charts\"\n",
              "                style=\"display:none;\">\n",
              "\n",
              "<svg xmlns=\"http://www.w3.org/2000/svg\" height=\"24px\"viewBox=\"0 0 24 24\"\n",
              "     width=\"24px\">\n",
              "    <g>\n",
              "        <path d=\"M19 3H5c-1.1 0-2 .9-2 2v14c0 1.1.9 2 2 2h14c1.1 0 2-.9 2-2V5c0-1.1-.9-2-2-2zM9 17H7v-7h2v7zm4 0h-2V7h2v10zm4 0h-2v-4h2v4z\"/>\n",
              "    </g>\n",
              "</svg>\n",
              "      </button>\n",
              "\n",
              "<style>\n",
              "  .colab-df-quickchart {\n",
              "      --bg-color: #E8F0FE;\n",
              "      --fill-color: #1967D2;\n",
              "      --hover-bg-color: #E2EBFA;\n",
              "      --hover-fill-color: #174EA6;\n",
              "      --disabled-fill-color: #AAA;\n",
              "      --disabled-bg-color: #DDD;\n",
              "  }\n",
              "\n",
              "  [theme=dark] .colab-df-quickchart {\n",
              "      --bg-color: #3B4455;\n",
              "      --fill-color: #D2E3FC;\n",
              "      --hover-bg-color: #434B5C;\n",
              "      --hover-fill-color: #FFFFFF;\n",
              "      --disabled-bg-color: #3B4455;\n",
              "      --disabled-fill-color: #666;\n",
              "  }\n",
              "\n",
              "  .colab-df-quickchart {\n",
              "    background-color: var(--bg-color);\n",
              "    border: none;\n",
              "    border-radius: 50%;\n",
              "    cursor: pointer;\n",
              "    display: none;\n",
              "    fill: var(--fill-color);\n",
              "    height: 32px;\n",
              "    padding: 0;\n",
              "    width: 32px;\n",
              "  }\n",
              "\n",
              "  .colab-df-quickchart:hover {\n",
              "    background-color: var(--hover-bg-color);\n",
              "    box-shadow: 0 1px 2px rgba(60, 64, 67, 0.3), 0 1px 3px 1px rgba(60, 64, 67, 0.15);\n",
              "    fill: var(--button-hover-fill-color);\n",
              "  }\n",
              "\n",
              "  .colab-df-quickchart-complete:disabled,\n",
              "  .colab-df-quickchart-complete:disabled:hover {\n",
              "    background-color: var(--disabled-bg-color);\n",
              "    fill: var(--disabled-fill-color);\n",
              "    box-shadow: none;\n",
              "  }\n",
              "\n",
              "  .colab-df-spinner {\n",
              "    border: 2px solid var(--fill-color);\n",
              "    border-color: transparent;\n",
              "    border-bottom-color: var(--fill-color);\n",
              "    animation:\n",
              "      spin 1s steps(1) infinite;\n",
              "  }\n",
              "\n",
              "  @keyframes spin {\n",
              "    0% {\n",
              "      border-color: transparent;\n",
              "      border-bottom-color: var(--fill-color);\n",
              "      border-left-color: var(--fill-color);\n",
              "    }\n",
              "    20% {\n",
              "      border-color: transparent;\n",
              "      border-left-color: var(--fill-color);\n",
              "      border-top-color: var(--fill-color);\n",
              "    }\n",
              "    30% {\n",
              "      border-color: transparent;\n",
              "      border-left-color: var(--fill-color);\n",
              "      border-top-color: var(--fill-color);\n",
              "      border-right-color: var(--fill-color);\n",
              "    }\n",
              "    40% {\n",
              "      border-color: transparent;\n",
              "      border-right-color: var(--fill-color);\n",
              "      border-top-color: var(--fill-color);\n",
              "    }\n",
              "    60% {\n",
              "      border-color: transparent;\n",
              "      border-right-color: var(--fill-color);\n",
              "    }\n",
              "    80% {\n",
              "      border-color: transparent;\n",
              "      border-right-color: var(--fill-color);\n",
              "      border-bottom-color: var(--fill-color);\n",
              "    }\n",
              "    90% {\n",
              "      border-color: transparent;\n",
              "      border-bottom-color: var(--fill-color);\n",
              "    }\n",
              "  }\n",
              "</style>\n",
              "\n",
              "      <script>\n",
              "        async function quickchart(key) {\n",
              "          const quickchartButtonEl =\n",
              "            document.querySelector('#' + key + ' button');\n",
              "          quickchartButtonEl.disabled = true;  // To prevent multiple clicks.\n",
              "          quickchartButtonEl.classList.add('colab-df-spinner');\n",
              "          try {\n",
              "            const charts = await google.colab.kernel.invokeFunction(\n",
              "                'suggestCharts', [key], {});\n",
              "          } catch (error) {\n",
              "            console.error('Error during call to suggestCharts:', error);\n",
              "          }\n",
              "          quickchartButtonEl.classList.remove('colab-df-spinner');\n",
              "          quickchartButtonEl.classList.add('colab-df-quickchart-complete');\n",
              "        }\n",
              "        (() => {\n",
              "          let quickchartButtonEl =\n",
              "            document.querySelector('#df-886ee53a-ef86-4ef0-ae3f-f7151ce5b324 button');\n",
              "          quickchartButtonEl.style.display =\n",
              "            google.colab.kernel.accessAllowed ? 'block' : 'none';\n",
              "        })();\n",
              "      </script>\n",
              "    </div>\n",
              "\n",
              "    </div>\n",
              "  </div>\n"
            ],
            "application/vnd.google.colaboratory.intrinsic+json": {
              "type": "dataframe",
              "variable_name": "inputs",
              "summary": "{\n  \"name\": \"inputs\",\n  \"rows\": 1025,\n  \"fields\": [\n    {\n      \"column\": \"age\",\n      \"properties\": {\n        \"dtype\": \"number\",\n        \"std\": 9,\n        \"min\": 29,\n        \"max\": 77,\n        \"num_unique_values\": 41,\n        \"samples\": [\n          65,\n          50,\n          54\n        ],\n        \"semantic_type\": \"\",\n        \"description\": \"\"\n      }\n    },\n    {\n      \"column\": \"sex\",\n      \"properties\": {\n        \"dtype\": \"number\",\n        \"std\": 0,\n        \"min\": 0,\n        \"max\": 1,\n        \"num_unique_values\": 2,\n        \"samples\": [\n          0,\n          1\n        ],\n        \"semantic_type\": \"\",\n        \"description\": \"\"\n      }\n    },\n    {\n      \"column\": \"cp\",\n      \"properties\": {\n        \"dtype\": \"number\",\n        \"std\": 1,\n        \"min\": 0,\n        \"max\": 3,\n        \"num_unique_values\": 4,\n        \"samples\": [\n          1,\n          3\n        ],\n        \"semantic_type\": \"\",\n        \"description\": \"\"\n      }\n    },\n    {\n      \"column\": \"trestbps\",\n      \"properties\": {\n        \"dtype\": \"number\",\n        \"std\": 17,\n        \"min\": 94,\n        \"max\": 200,\n        \"num_unique_values\": 49,\n        \"samples\": [\n          128,\n          172\n        ],\n        \"semantic_type\": \"\",\n        \"description\": \"\"\n      }\n    },\n    {\n      \"column\": \"chol\",\n      \"properties\": {\n        \"dtype\": \"number\",\n        \"std\": 51,\n        \"min\": 126,\n        \"max\": 564,\n        \"num_unique_values\": 152,\n        \"samples\": [\n          267,\n          262\n        ],\n        \"semantic_type\": \"\",\n        \"description\": \"\"\n      }\n    },\n    {\n      \"column\": \"fbs\",\n      \"properties\": {\n        \"dtype\": \"number\",\n        \"std\": 0,\n        \"min\": 0,\n        \"max\": 1,\n        \"num_unique_values\": 2,\n        \"samples\": [\n          1,\n          0\n        ],\n        \"semantic_type\": \"\",\n        \"description\": \"\"\n      }\n    },\n    {\n      \"column\": \"restecg\",\n      \"properties\": {\n        \"dtype\": \"number\",\n        \"std\": 0,\n        \"min\": 0,\n        \"max\": 2,\n        \"num_unique_values\": 3,\n        \"samples\": [\n          1,\n          0\n        ],\n        \"semantic_type\": \"\",\n        \"description\": \"\"\n      }\n    },\n    {\n      \"column\": \"thalach\",\n      \"properties\": {\n        \"dtype\": \"number\",\n        \"std\": 23,\n        \"min\": 71,\n        \"max\": 202,\n        \"num_unique_values\": 91,\n        \"samples\": [\n          180,\n          152\n        ],\n        \"semantic_type\": \"\",\n        \"description\": \"\"\n      }\n    },\n    {\n      \"column\": \"exang\",\n      \"properties\": {\n        \"dtype\": \"number\",\n        \"std\": 0,\n        \"min\": 0,\n        \"max\": 1,\n        \"num_unique_values\": 2,\n        \"samples\": [\n          1,\n          0\n        ],\n        \"semantic_type\": \"\",\n        \"description\": \"\"\n      }\n    },\n    {\n      \"column\": \"oldpeak\",\n      \"properties\": {\n        \"dtype\": \"number\",\n        \"std\": 1.175053255150173,\n        \"min\": 0.0,\n        \"max\": 6.2,\n        \"num_unique_values\": 40,\n        \"samples\": [\n          2.8,\n          0.4\n        ],\n        \"semantic_type\": \"\",\n        \"description\": \"\"\n      }\n    },\n    {\n      \"column\": \"slope\",\n      \"properties\": {\n        \"dtype\": \"number\",\n        \"std\": 0,\n        \"min\": 0,\n        \"max\": 2,\n        \"num_unique_values\": 3,\n        \"samples\": [\n          2,\n          0\n        ],\n        \"semantic_type\": \"\",\n        \"description\": \"\"\n      }\n    },\n    {\n      \"column\": \"ca\",\n      \"properties\": {\n        \"dtype\": \"number\",\n        \"std\": 1,\n        \"min\": 0,\n        \"max\": 4,\n        \"num_unique_values\": 5,\n        \"samples\": [\n          0,\n          4\n        ],\n        \"semantic_type\": \"\",\n        \"description\": \"\"\n      }\n    },\n    {\n      \"column\": \"thal\",\n      \"properties\": {\n        \"dtype\": \"number\",\n        \"std\": 0,\n        \"min\": 0,\n        \"max\": 3,\n        \"num_unique_values\": 4,\n        \"samples\": [\n          2,\n          0\n        ],\n        \"semantic_type\": \"\",\n        \"description\": \"\"\n      }\n    }\n  ]\n}"
            }
          },
          "metadata": {},
          "execution_count": 10
        }
      ]
    },
    {
      "cell_type": "markdown",
      "source": [
        "####5.2.4 Split the data Into training and Test split"
      ],
      "metadata": {
        "id": "RC6F8-UaWcAw"
      }
    },
    {
      "cell_type": "code",
      "source": [
        "#split the data into 80% test and 20 % test\n",
        "from sklearn.model_selection import train_test_split\n",
        "input_train,input_test,targets_train,targets_test=train_test_split(\n",
        "    inputs,targets,test_size=0.2,random_state=42\n",
        ")"
      ],
      "metadata": {
        "id": "Wp26-L5UWm2F"
      },
      "execution_count": 11,
      "outputs": []
    },
    {
      "cell_type": "code",
      "source": [
        "#inspect input_train\n",
        "input_train.shape"
      ],
      "metadata": {
        "colab": {
          "base_uri": "https://localhost:8080/"
        },
        "id": "D2PV--U7XW1d",
        "outputId": "9b99468a-6348-4a8e-c72d-656987b684a6"
      },
      "execution_count": 12,
      "outputs": [
        {
          "output_type": "execute_result",
          "data": {
            "text/plain": [
              "(820, 13)"
            ]
          },
          "metadata": {},
          "execution_count": 12
        }
      ]
    },
    {
      "cell_type": "code",
      "source": [
        "input_test.shape"
      ],
      "metadata": {
        "colab": {
          "base_uri": "https://localhost:8080/"
        },
        "id": "CKP9H6lzXb2n",
        "outputId": "d21a06e3-3f78-48f8-98b5-3a679813e741"
      },
      "execution_count": 13,
      "outputs": [
        {
          "output_type": "execute_result",
          "data": {
            "text/plain": [
              "(205, 13)"
            ]
          },
          "metadata": {},
          "execution_count": 13
        }
      ]
    },
    {
      "cell_type": "markdown",
      "source": [
        "The sum of the data was 1025 and it looks like our data has been split successful"
      ],
      "metadata": {
        "id": "MxQ6HjQEXu18"
      }
    },
    {
      "cell_type": "code",
      "source": [
        "#lets inspect the targets_train\n",
        "targets_train.shape"
      ],
      "metadata": {
        "colab": {
          "base_uri": "https://localhost:8080/"
        },
        "id": "7eKPpLZeXiaF",
        "outputId": "c8f64cfc-58f2-4182-f6c7-914967455c5f"
      },
      "execution_count": 14,
      "outputs": [
        {
          "output_type": "execute_result",
          "data": {
            "text/plain": [
              "(820,)"
            ]
          },
          "metadata": {},
          "execution_count": 14
        }
      ]
    },
    {
      "cell_type": "code",
      "source": [
        "#lets inspect the targets_test.shape\n",
        "targets_test.shape"
      ],
      "metadata": {
        "colab": {
          "base_uri": "https://localhost:8080/"
        },
        "id": "8d697MdRYBrT",
        "outputId": "69c53658-9505-4fb5-e681-73866ffba194"
      },
      "execution_count": 15,
      "outputs": [
        {
          "output_type": "execute_result",
          "data": {
            "text/plain": [
              "(205,)"
            ]
          },
          "metadata": {},
          "execution_count": 15
        }
      ]
    },
    {
      "cell_type": "markdown",
      "source": [
        "Our data has been split correctly now lets Scale our data"
      ],
      "metadata": {
        "id": "MGyUUbgXYOxh"
      }
    },
    {
      "cell_type": "markdown",
      "source": [
        "####5.2.5 Build a baseline Model"
      ],
      "metadata": {
        "id": "t4KmYumaYL9t"
      }
    },
    {
      "cell_type": "code",
      "source": [
        "from sklearn.metrics import accuracy_score\n",
        "X_train=input_train\n",
        "y_train=targets_train\n",
        "\n",
        "X_test=input_test\n",
        "y_test=targets_test\n",
        "\n",
        "#Build an accuracy baseline\n",
        "acc_baseline=y_train.value_counts(normalize=True).max()\n",
        "print(f'The baseline accuracy is {acc_baseline:.2f}')"
      ],
      "metadata": {
        "colab": {
          "base_uri": "https://localhost:8080/"
        },
        "id": "ab7xnK3NYwPQ",
        "outputId": "13929f8c-a9a5-480b-d8b4-a1fa9fd0e6cd"
      },
      "execution_count": 16,
      "outputs": [
        {
          "output_type": "stream",
          "name": "stdout",
          "text": [
            "The baseline accuracy is 0.52\n"
          ]
        }
      ]
    },
    {
      "cell_type": "markdown",
      "source": [
        "We have our bseline at 0.53."
      ],
      "metadata": {
        "id": "wP3i6aU_Z2xa"
      }
    },
    {
      "cell_type": "markdown",
      "source": [
        "####5.2.6 Logistic regression"
      ],
      "metadata": {
        "id": "0El68MAjZ2Er"
      }
    },
    {
      "cell_type": "code",
      "source": [
        "#import the modules we are going to use\n",
        "from sklearn.linear_model import LogisticRegression\n",
        "from sklearn.pipeline import make_pipeline\n",
        "from sklearn.preprocessing import StandardScaler\n",
        "\n",
        "model1=make_pipeline(\n",
        "    StandardScaler(),\n",
        "    LogisticRegression(max_iter=1000)\n",
        ")\n",
        "\n",
        "#we fit the model\n",
        "model1.fit(X_train,y_train)"
      ],
      "metadata": {
        "colab": {
          "base_uri": "https://localhost:8080/",
          "height": 157
        },
        "id": "KG1ABaO-Zrbo",
        "outputId": "6a25df6d-7825-4234-f33d-62ee7bc5d25f"
      },
      "execution_count": 17,
      "outputs": [
        {
          "output_type": "execute_result",
          "data": {
            "text/plain": [
              "Pipeline(steps=[('standardscaler', StandardScaler()),\n",
              "                ('logisticregression', LogisticRegression(max_iter=1000))])"
            ],
            "text/html": [
              "<style>#sk-container-id-1 {\n",
              "  /* Definition of color scheme common for light and dark mode */\n",
              "  --sklearn-color-text: #000;\n",
              "  --sklearn-color-text-muted: #666;\n",
              "  --sklearn-color-line: gray;\n",
              "  /* Definition of color scheme for unfitted estimators */\n",
              "  --sklearn-color-unfitted-level-0: #fff5e6;\n",
              "  --sklearn-color-unfitted-level-1: #f6e4d2;\n",
              "  --sklearn-color-unfitted-level-2: #ffe0b3;\n",
              "  --sklearn-color-unfitted-level-3: chocolate;\n",
              "  /* Definition of color scheme for fitted estimators */\n",
              "  --sklearn-color-fitted-level-0: #f0f8ff;\n",
              "  --sklearn-color-fitted-level-1: #d4ebff;\n",
              "  --sklearn-color-fitted-level-2: #b3dbfd;\n",
              "  --sklearn-color-fitted-level-3: cornflowerblue;\n",
              "\n",
              "  /* Specific color for light theme */\n",
              "  --sklearn-color-text-on-default-background: var(--sg-text-color, var(--theme-code-foreground, var(--jp-content-font-color1, black)));\n",
              "  --sklearn-color-background: var(--sg-background-color, var(--theme-background, var(--jp-layout-color0, white)));\n",
              "  --sklearn-color-border-box: var(--sg-text-color, var(--theme-code-foreground, var(--jp-content-font-color1, black)));\n",
              "  --sklearn-color-icon: #696969;\n",
              "\n",
              "  @media (prefers-color-scheme: dark) {\n",
              "    /* Redefinition of color scheme for dark theme */\n",
              "    --sklearn-color-text-on-default-background: var(--sg-text-color, var(--theme-code-foreground, var(--jp-content-font-color1, white)));\n",
              "    --sklearn-color-background: var(--sg-background-color, var(--theme-background, var(--jp-layout-color0, #111)));\n",
              "    --sklearn-color-border-box: var(--sg-text-color, var(--theme-code-foreground, var(--jp-content-font-color1, white)));\n",
              "    --sklearn-color-icon: #878787;\n",
              "  }\n",
              "}\n",
              "\n",
              "#sk-container-id-1 {\n",
              "  color: var(--sklearn-color-text);\n",
              "}\n",
              "\n",
              "#sk-container-id-1 pre {\n",
              "  padding: 0;\n",
              "}\n",
              "\n",
              "#sk-container-id-1 input.sk-hidden--visually {\n",
              "  border: 0;\n",
              "  clip: rect(1px 1px 1px 1px);\n",
              "  clip: rect(1px, 1px, 1px, 1px);\n",
              "  height: 1px;\n",
              "  margin: -1px;\n",
              "  overflow: hidden;\n",
              "  padding: 0;\n",
              "  position: absolute;\n",
              "  width: 1px;\n",
              "}\n",
              "\n",
              "#sk-container-id-1 div.sk-dashed-wrapped {\n",
              "  border: 1px dashed var(--sklearn-color-line);\n",
              "  margin: 0 0.4em 0.5em 0.4em;\n",
              "  box-sizing: border-box;\n",
              "  padding-bottom: 0.4em;\n",
              "  background-color: var(--sklearn-color-background);\n",
              "}\n",
              "\n",
              "#sk-container-id-1 div.sk-container {\n",
              "  /* jupyter's `normalize.less` sets `[hidden] { display: none; }`\n",
              "     but bootstrap.min.css set `[hidden] { display: none !important; }`\n",
              "     so we also need the `!important` here to be able to override the\n",
              "     default hidden behavior on the sphinx rendered scikit-learn.org.\n",
              "     See: https://github.com/scikit-learn/scikit-learn/issues/21755 */\n",
              "  display: inline-block !important;\n",
              "  position: relative;\n",
              "}\n",
              "\n",
              "#sk-container-id-1 div.sk-text-repr-fallback {\n",
              "  display: none;\n",
              "}\n",
              "\n",
              "div.sk-parallel-item,\n",
              "div.sk-serial,\n",
              "div.sk-item {\n",
              "  /* draw centered vertical line to link estimators */\n",
              "  background-image: linear-gradient(var(--sklearn-color-text-on-default-background), var(--sklearn-color-text-on-default-background));\n",
              "  background-size: 2px 100%;\n",
              "  background-repeat: no-repeat;\n",
              "  background-position: center center;\n",
              "}\n",
              "\n",
              "/* Parallel-specific style estimator block */\n",
              "\n",
              "#sk-container-id-1 div.sk-parallel-item::after {\n",
              "  content: \"\";\n",
              "  width: 100%;\n",
              "  border-bottom: 2px solid var(--sklearn-color-text-on-default-background);\n",
              "  flex-grow: 1;\n",
              "}\n",
              "\n",
              "#sk-container-id-1 div.sk-parallel {\n",
              "  display: flex;\n",
              "  align-items: stretch;\n",
              "  justify-content: center;\n",
              "  background-color: var(--sklearn-color-background);\n",
              "  position: relative;\n",
              "}\n",
              "\n",
              "#sk-container-id-1 div.sk-parallel-item {\n",
              "  display: flex;\n",
              "  flex-direction: column;\n",
              "}\n",
              "\n",
              "#sk-container-id-1 div.sk-parallel-item:first-child::after {\n",
              "  align-self: flex-end;\n",
              "  width: 50%;\n",
              "}\n",
              "\n",
              "#sk-container-id-1 div.sk-parallel-item:last-child::after {\n",
              "  align-self: flex-start;\n",
              "  width: 50%;\n",
              "}\n",
              "\n",
              "#sk-container-id-1 div.sk-parallel-item:only-child::after {\n",
              "  width: 0;\n",
              "}\n",
              "\n",
              "/* Serial-specific style estimator block */\n",
              "\n",
              "#sk-container-id-1 div.sk-serial {\n",
              "  display: flex;\n",
              "  flex-direction: column;\n",
              "  align-items: center;\n",
              "  background-color: var(--sklearn-color-background);\n",
              "  padding-right: 1em;\n",
              "  padding-left: 1em;\n",
              "}\n",
              "\n",
              "\n",
              "/* Toggleable style: style used for estimator/Pipeline/ColumnTransformer box that is\n",
              "clickable and can be expanded/collapsed.\n",
              "- Pipeline and ColumnTransformer use this feature and define the default style\n",
              "- Estimators will overwrite some part of the style using the `sk-estimator` class\n",
              "*/\n",
              "\n",
              "/* Pipeline and ColumnTransformer style (default) */\n",
              "\n",
              "#sk-container-id-1 div.sk-toggleable {\n",
              "  /* Default theme specific background. It is overwritten whether we have a\n",
              "  specific estimator or a Pipeline/ColumnTransformer */\n",
              "  background-color: var(--sklearn-color-background);\n",
              "}\n",
              "\n",
              "/* Toggleable label */\n",
              "#sk-container-id-1 label.sk-toggleable__label {\n",
              "  cursor: pointer;\n",
              "  display: flex;\n",
              "  width: 100%;\n",
              "  margin-bottom: 0;\n",
              "  padding: 0.5em;\n",
              "  box-sizing: border-box;\n",
              "  text-align: center;\n",
              "  align-items: start;\n",
              "  justify-content: space-between;\n",
              "  gap: 0.5em;\n",
              "}\n",
              "\n",
              "#sk-container-id-1 label.sk-toggleable__label .caption {\n",
              "  font-size: 0.6rem;\n",
              "  font-weight: lighter;\n",
              "  color: var(--sklearn-color-text-muted);\n",
              "}\n",
              "\n",
              "#sk-container-id-1 label.sk-toggleable__label-arrow:before {\n",
              "  /* Arrow on the left of the label */\n",
              "  content: \"▸\";\n",
              "  float: left;\n",
              "  margin-right: 0.25em;\n",
              "  color: var(--sklearn-color-icon);\n",
              "}\n",
              "\n",
              "#sk-container-id-1 label.sk-toggleable__label-arrow:hover:before {\n",
              "  color: var(--sklearn-color-text);\n",
              "}\n",
              "\n",
              "/* Toggleable content - dropdown */\n",
              "\n",
              "#sk-container-id-1 div.sk-toggleable__content {\n",
              "  max-height: 0;\n",
              "  max-width: 0;\n",
              "  overflow: hidden;\n",
              "  text-align: left;\n",
              "  /* unfitted */\n",
              "  background-color: var(--sklearn-color-unfitted-level-0);\n",
              "}\n",
              "\n",
              "#sk-container-id-1 div.sk-toggleable__content.fitted {\n",
              "  /* fitted */\n",
              "  background-color: var(--sklearn-color-fitted-level-0);\n",
              "}\n",
              "\n",
              "#sk-container-id-1 div.sk-toggleable__content pre {\n",
              "  margin: 0.2em;\n",
              "  border-radius: 0.25em;\n",
              "  color: var(--sklearn-color-text);\n",
              "  /* unfitted */\n",
              "  background-color: var(--sklearn-color-unfitted-level-0);\n",
              "}\n",
              "\n",
              "#sk-container-id-1 div.sk-toggleable__content.fitted pre {\n",
              "  /* unfitted */\n",
              "  background-color: var(--sklearn-color-fitted-level-0);\n",
              "}\n",
              "\n",
              "#sk-container-id-1 input.sk-toggleable__control:checked~div.sk-toggleable__content {\n",
              "  /* Expand drop-down */\n",
              "  max-height: 200px;\n",
              "  max-width: 100%;\n",
              "  overflow: auto;\n",
              "}\n",
              "\n",
              "#sk-container-id-1 input.sk-toggleable__control:checked~label.sk-toggleable__label-arrow:before {\n",
              "  content: \"▾\";\n",
              "}\n",
              "\n",
              "/* Pipeline/ColumnTransformer-specific style */\n",
              "\n",
              "#sk-container-id-1 div.sk-label input.sk-toggleable__control:checked~label.sk-toggleable__label {\n",
              "  color: var(--sklearn-color-text);\n",
              "  background-color: var(--sklearn-color-unfitted-level-2);\n",
              "}\n",
              "\n",
              "#sk-container-id-1 div.sk-label.fitted input.sk-toggleable__control:checked~label.sk-toggleable__label {\n",
              "  background-color: var(--sklearn-color-fitted-level-2);\n",
              "}\n",
              "\n",
              "/* Estimator-specific style */\n",
              "\n",
              "/* Colorize estimator box */\n",
              "#sk-container-id-1 div.sk-estimator input.sk-toggleable__control:checked~label.sk-toggleable__label {\n",
              "  /* unfitted */\n",
              "  background-color: var(--sklearn-color-unfitted-level-2);\n",
              "}\n",
              "\n",
              "#sk-container-id-1 div.sk-estimator.fitted input.sk-toggleable__control:checked~label.sk-toggleable__label {\n",
              "  /* fitted */\n",
              "  background-color: var(--sklearn-color-fitted-level-2);\n",
              "}\n",
              "\n",
              "#sk-container-id-1 div.sk-label label.sk-toggleable__label,\n",
              "#sk-container-id-1 div.sk-label label {\n",
              "  /* The background is the default theme color */\n",
              "  color: var(--sklearn-color-text-on-default-background);\n",
              "}\n",
              "\n",
              "/* On hover, darken the color of the background */\n",
              "#sk-container-id-1 div.sk-label:hover label.sk-toggleable__label {\n",
              "  color: var(--sklearn-color-text);\n",
              "  background-color: var(--sklearn-color-unfitted-level-2);\n",
              "}\n",
              "\n",
              "/* Label box, darken color on hover, fitted */\n",
              "#sk-container-id-1 div.sk-label.fitted:hover label.sk-toggleable__label.fitted {\n",
              "  color: var(--sklearn-color-text);\n",
              "  background-color: var(--sklearn-color-fitted-level-2);\n",
              "}\n",
              "\n",
              "/* Estimator label */\n",
              "\n",
              "#sk-container-id-1 div.sk-label label {\n",
              "  font-family: monospace;\n",
              "  font-weight: bold;\n",
              "  display: inline-block;\n",
              "  line-height: 1.2em;\n",
              "}\n",
              "\n",
              "#sk-container-id-1 div.sk-label-container {\n",
              "  text-align: center;\n",
              "}\n",
              "\n",
              "/* Estimator-specific */\n",
              "#sk-container-id-1 div.sk-estimator {\n",
              "  font-family: monospace;\n",
              "  border: 1px dotted var(--sklearn-color-border-box);\n",
              "  border-radius: 0.25em;\n",
              "  box-sizing: border-box;\n",
              "  margin-bottom: 0.5em;\n",
              "  /* unfitted */\n",
              "  background-color: var(--sklearn-color-unfitted-level-0);\n",
              "}\n",
              "\n",
              "#sk-container-id-1 div.sk-estimator.fitted {\n",
              "  /* fitted */\n",
              "  background-color: var(--sklearn-color-fitted-level-0);\n",
              "}\n",
              "\n",
              "/* on hover */\n",
              "#sk-container-id-1 div.sk-estimator:hover {\n",
              "  /* unfitted */\n",
              "  background-color: var(--sklearn-color-unfitted-level-2);\n",
              "}\n",
              "\n",
              "#sk-container-id-1 div.sk-estimator.fitted:hover {\n",
              "  /* fitted */\n",
              "  background-color: var(--sklearn-color-fitted-level-2);\n",
              "}\n",
              "\n",
              "/* Specification for estimator info (e.g. \"i\" and \"?\") */\n",
              "\n",
              "/* Common style for \"i\" and \"?\" */\n",
              "\n",
              ".sk-estimator-doc-link,\n",
              "a:link.sk-estimator-doc-link,\n",
              "a:visited.sk-estimator-doc-link {\n",
              "  float: right;\n",
              "  font-size: smaller;\n",
              "  line-height: 1em;\n",
              "  font-family: monospace;\n",
              "  background-color: var(--sklearn-color-background);\n",
              "  border-radius: 1em;\n",
              "  height: 1em;\n",
              "  width: 1em;\n",
              "  text-decoration: none !important;\n",
              "  margin-left: 0.5em;\n",
              "  text-align: center;\n",
              "  /* unfitted */\n",
              "  border: var(--sklearn-color-unfitted-level-1) 1pt solid;\n",
              "  color: var(--sklearn-color-unfitted-level-1);\n",
              "}\n",
              "\n",
              ".sk-estimator-doc-link.fitted,\n",
              "a:link.sk-estimator-doc-link.fitted,\n",
              "a:visited.sk-estimator-doc-link.fitted {\n",
              "  /* fitted */\n",
              "  border: var(--sklearn-color-fitted-level-1) 1pt solid;\n",
              "  color: var(--sklearn-color-fitted-level-1);\n",
              "}\n",
              "\n",
              "/* On hover */\n",
              "div.sk-estimator:hover .sk-estimator-doc-link:hover,\n",
              ".sk-estimator-doc-link:hover,\n",
              "div.sk-label-container:hover .sk-estimator-doc-link:hover,\n",
              ".sk-estimator-doc-link:hover {\n",
              "  /* unfitted */\n",
              "  background-color: var(--sklearn-color-unfitted-level-3);\n",
              "  color: var(--sklearn-color-background);\n",
              "  text-decoration: none;\n",
              "}\n",
              "\n",
              "div.sk-estimator.fitted:hover .sk-estimator-doc-link.fitted:hover,\n",
              ".sk-estimator-doc-link.fitted:hover,\n",
              "div.sk-label-container:hover .sk-estimator-doc-link.fitted:hover,\n",
              ".sk-estimator-doc-link.fitted:hover {\n",
              "  /* fitted */\n",
              "  background-color: var(--sklearn-color-fitted-level-3);\n",
              "  color: var(--sklearn-color-background);\n",
              "  text-decoration: none;\n",
              "}\n",
              "\n",
              "/* Span, style for the box shown on hovering the info icon */\n",
              ".sk-estimator-doc-link span {\n",
              "  display: none;\n",
              "  z-index: 9999;\n",
              "  position: relative;\n",
              "  font-weight: normal;\n",
              "  right: .2ex;\n",
              "  padding: .5ex;\n",
              "  margin: .5ex;\n",
              "  width: min-content;\n",
              "  min-width: 20ex;\n",
              "  max-width: 50ex;\n",
              "  color: var(--sklearn-color-text);\n",
              "  box-shadow: 2pt 2pt 4pt #999;\n",
              "  /* unfitted */\n",
              "  background: var(--sklearn-color-unfitted-level-0);\n",
              "  border: .5pt solid var(--sklearn-color-unfitted-level-3);\n",
              "}\n",
              "\n",
              ".sk-estimator-doc-link.fitted span {\n",
              "  /* fitted */\n",
              "  background: var(--sklearn-color-fitted-level-0);\n",
              "  border: var(--sklearn-color-fitted-level-3);\n",
              "}\n",
              "\n",
              ".sk-estimator-doc-link:hover span {\n",
              "  display: block;\n",
              "}\n",
              "\n",
              "/* \"?\"-specific style due to the `<a>` HTML tag */\n",
              "\n",
              "#sk-container-id-1 a.estimator_doc_link {\n",
              "  float: right;\n",
              "  font-size: 1rem;\n",
              "  line-height: 1em;\n",
              "  font-family: monospace;\n",
              "  background-color: var(--sklearn-color-background);\n",
              "  border-radius: 1rem;\n",
              "  height: 1rem;\n",
              "  width: 1rem;\n",
              "  text-decoration: none;\n",
              "  /* unfitted */\n",
              "  color: var(--sklearn-color-unfitted-level-1);\n",
              "  border: var(--sklearn-color-unfitted-level-1) 1pt solid;\n",
              "}\n",
              "\n",
              "#sk-container-id-1 a.estimator_doc_link.fitted {\n",
              "  /* fitted */\n",
              "  border: var(--sklearn-color-fitted-level-1) 1pt solid;\n",
              "  color: var(--sklearn-color-fitted-level-1);\n",
              "}\n",
              "\n",
              "/* On hover */\n",
              "#sk-container-id-1 a.estimator_doc_link:hover {\n",
              "  /* unfitted */\n",
              "  background-color: var(--sklearn-color-unfitted-level-3);\n",
              "  color: var(--sklearn-color-background);\n",
              "  text-decoration: none;\n",
              "}\n",
              "\n",
              "#sk-container-id-1 a.estimator_doc_link.fitted:hover {\n",
              "  /* fitted */\n",
              "  background-color: var(--sklearn-color-fitted-level-3);\n",
              "}\n",
              "</style><div id=\"sk-container-id-1\" class=\"sk-top-container\"><div class=\"sk-text-repr-fallback\"><pre>Pipeline(steps=[(&#x27;standardscaler&#x27;, StandardScaler()),\n",
              "                (&#x27;logisticregression&#x27;, LogisticRegression(max_iter=1000))])</pre><b>In a Jupyter environment, please rerun this cell to show the HTML representation or trust the notebook. <br />On GitHub, the HTML representation is unable to render, please try loading this page with nbviewer.org.</b></div><div class=\"sk-container\" hidden><div class=\"sk-item sk-dashed-wrapped\"><div class=\"sk-label-container\"><div class=\"sk-label fitted sk-toggleable\"><input class=\"sk-toggleable__control sk-hidden--visually\" id=\"sk-estimator-id-1\" type=\"checkbox\" ><label for=\"sk-estimator-id-1\" class=\"sk-toggleable__label fitted sk-toggleable__label-arrow\"><div><div>Pipeline</div></div><div><a class=\"sk-estimator-doc-link fitted\" rel=\"noreferrer\" target=\"_blank\" href=\"https://scikit-learn.org/1.6/modules/generated/sklearn.pipeline.Pipeline.html\">?<span>Documentation for Pipeline</span></a><span class=\"sk-estimator-doc-link fitted\">i<span>Fitted</span></span></div></label><div class=\"sk-toggleable__content fitted\"><pre>Pipeline(steps=[(&#x27;standardscaler&#x27;, StandardScaler()),\n",
              "                (&#x27;logisticregression&#x27;, LogisticRegression(max_iter=1000))])</pre></div> </div></div><div class=\"sk-serial\"><div class=\"sk-item\"><div class=\"sk-estimator fitted sk-toggleable\"><input class=\"sk-toggleable__control sk-hidden--visually\" id=\"sk-estimator-id-2\" type=\"checkbox\" ><label for=\"sk-estimator-id-2\" class=\"sk-toggleable__label fitted sk-toggleable__label-arrow\"><div><div>StandardScaler</div></div><div><a class=\"sk-estimator-doc-link fitted\" rel=\"noreferrer\" target=\"_blank\" href=\"https://scikit-learn.org/1.6/modules/generated/sklearn.preprocessing.StandardScaler.html\">?<span>Documentation for StandardScaler</span></a></div></label><div class=\"sk-toggleable__content fitted\"><pre>StandardScaler()</pre></div> </div></div><div class=\"sk-item\"><div class=\"sk-estimator fitted sk-toggleable\"><input class=\"sk-toggleable__control sk-hidden--visually\" id=\"sk-estimator-id-3\" type=\"checkbox\" ><label for=\"sk-estimator-id-3\" class=\"sk-toggleable__label fitted sk-toggleable__label-arrow\"><div><div>LogisticRegression</div></div><div><a class=\"sk-estimator-doc-link fitted\" rel=\"noreferrer\" target=\"_blank\" href=\"https://scikit-learn.org/1.6/modules/generated/sklearn.linear_model.LogisticRegression.html\">?<span>Documentation for LogisticRegression</span></a></div></label><div class=\"sk-toggleable__content fitted\"><pre>LogisticRegression(max_iter=1000)</pre></div> </div></div></div></div></div></div>"
            ]
          },
          "metadata": {},
          "execution_count": 17
        }
      ]
    },
    {
      "cell_type": "markdown",
      "source": [
        "The model has been fit well"
      ],
      "metadata": {
        "id": "4vjQiPizasBD"
      }
    },
    {
      "cell_type": "markdown",
      "source": [
        "#####5.2.6.1 Evaluate the model"
      ],
      "metadata": {
        "id": "P-ia0-IRaqk1"
      }
    },
    {
      "cell_type": "code",
      "source": [
        "accuracy_train= accuracy_score(y_train, model1.predict(X_train))\n",
        "accuracy_test= model1.score(X_test,y_test)\n",
        "\n",
        "print(f'The accuracy on the training set is :{accuracy_train:.2f}')\n",
        "print(f'The accuracy on the test set is :{accuracy_test:.2f}')"
      ],
      "metadata": {
        "colab": {
          "base_uri": "https://localhost:8080/"
        },
        "id": "2oXD8ff3a4yD",
        "outputId": "c9d4318f-8ff5-4a1b-983d-d9309f6417e6"
      },
      "execution_count": 18,
      "outputs": [
        {
          "output_type": "stream",
          "name": "stdout",
          "text": [
            "The accuracy on the training set is :0.87\n",
            "The accuracy on the test set is :0.80\n"
          ]
        }
      ]
    },
    {
      "cell_type": "markdown",
      "source": [
        "Both of our Training and test accuracy is higher than the baseline Accuracy score which is a good thing for our model"
      ],
      "metadata": {
        "id": "ip1KpoALbbFh"
      }
    },
    {
      "cell_type": "markdown",
      "source": [
        "#####5.2.6.2 Predict the probability"
      ],
      "metadata": {
        "id": "OyCEpjCdb8YB"
      }
    },
    {
      "cell_type": "code",
      "source": [
        "y_train_pred_proba= model1.predict_proba(X_train)"
      ],
      "metadata": {
        "id": "MSrzailJbPiP"
      },
      "execution_count": 19,
      "outputs": []
    },
    {
      "cell_type": "code",
      "source": [
        "y_train_pred_proba[:5]"
      ],
      "metadata": {
        "colab": {
          "base_uri": "https://localhost:8080/"
        },
        "id": "Z9I-4KZxb5vj",
        "outputId": "943ce19b-25d7-4cc2-cd24-bdce1431401e"
      },
      "execution_count": 20,
      "outputs": [
        {
          "output_type": "execute_result",
          "data": {
            "text/plain": [
              "array([[0.52804903, 0.47195097],\n",
              "       [0.38819846, 0.61180154],\n",
              "       [0.006783  , 0.993217  ],\n",
              "       [0.65299184, 0.34700816],\n",
              "       [0.33795434, 0.66204566]])"
            ]
          },
          "metadata": {},
          "execution_count": 20
        }
      ]
    },
    {
      "cell_type": "markdown",
      "source": [
        "#####5.2.6.3 Extract features and Importance"
      ],
      "metadata": {
        "id": "idhnkEeOcBwp"
      }
    },
    {
      "cell_type": "code",
      "metadata": {
        "colab": {
          "base_uri": "https://localhost:8080/",
          "height": 474
        },
        "id": "b9e6b5ab",
        "outputId": "b16f8f60-4896-4d7b-84ec-a14b5a5e569d"
      },
      "source": [
        "# Extract coefficients from the logistic regression model\n",
        "coefficients = model1.named_steps['logisticregression'].coef_[0]\n",
        "\n",
        "# Get the feature names from the training data\n",
        "feature_names = X_train.columns\n",
        "\n",
        "# Create a DataFrame to display feature names and their corresponding coefficients\n",
        "feature_importance = pd.DataFrame({'Feature': feature_names, 'Coefficient': coefficients})\n",
        "\n",
        "# Sort the features by the absolute value of their coefficients\n",
        "feature_importance['Abs_Coefficient'] = abs(feature_importance['Coefficient'])\n",
        "feature_importance = feature_importance.sort_values(by='Abs_Coefficient', ascending=False).drop(columns='Abs_Coefficient')\n",
        "\n",
        "# Display the feature importance\n",
        "print(\"Feature Importance (Absolute Coefficient Value):\")\n",
        "display(feature_importance)"
      ],
      "execution_count": 21,
      "outputs": [
        {
          "output_type": "stream",
          "name": "stdout",
          "text": [
            "Feature Importance (Absolute Coefficient Value):\n"
          ]
        },
        {
          "output_type": "display_data",
          "data": {
            "text/plain": [
              "     Feature  Coefficient\n",
              "2         cp     0.885835\n",
              "11        ca    -0.847522\n",
              "1        sex    -0.835665\n",
              "9    oldpeak    -0.765406\n",
              "12      thal    -0.656856\n",
              "7    thalach     0.652826\n",
              "4       chol    -0.447276\n",
              "8      exang    -0.420235\n",
              "10     slope     0.343605\n",
              "3   trestbps    -0.320053\n",
              "6    restecg     0.140804\n",
              "5        fbs    -0.062685\n",
              "0        age    -0.006734"
            ],
            "text/html": [
              "\n",
              "  <div id=\"df-f3c73548-f8d4-43e3-8dd1-4cd40c1493df\" class=\"colab-df-container\">\n",
              "    <div>\n",
              "<style scoped>\n",
              "    .dataframe tbody tr th:only-of-type {\n",
              "        vertical-align: middle;\n",
              "    }\n",
              "\n",
              "    .dataframe tbody tr th {\n",
              "        vertical-align: top;\n",
              "    }\n",
              "\n",
              "    .dataframe thead th {\n",
              "        text-align: right;\n",
              "    }\n",
              "</style>\n",
              "<table border=\"1\" class=\"dataframe\">\n",
              "  <thead>\n",
              "    <tr style=\"text-align: right;\">\n",
              "      <th></th>\n",
              "      <th>Feature</th>\n",
              "      <th>Coefficient</th>\n",
              "    </tr>\n",
              "  </thead>\n",
              "  <tbody>\n",
              "    <tr>\n",
              "      <th>2</th>\n",
              "      <td>cp</td>\n",
              "      <td>0.885835</td>\n",
              "    </tr>\n",
              "    <tr>\n",
              "      <th>11</th>\n",
              "      <td>ca</td>\n",
              "      <td>-0.847522</td>\n",
              "    </tr>\n",
              "    <tr>\n",
              "      <th>1</th>\n",
              "      <td>sex</td>\n",
              "      <td>-0.835665</td>\n",
              "    </tr>\n",
              "    <tr>\n",
              "      <th>9</th>\n",
              "      <td>oldpeak</td>\n",
              "      <td>-0.765406</td>\n",
              "    </tr>\n",
              "    <tr>\n",
              "      <th>12</th>\n",
              "      <td>thal</td>\n",
              "      <td>-0.656856</td>\n",
              "    </tr>\n",
              "    <tr>\n",
              "      <th>7</th>\n",
              "      <td>thalach</td>\n",
              "      <td>0.652826</td>\n",
              "    </tr>\n",
              "    <tr>\n",
              "      <th>4</th>\n",
              "      <td>chol</td>\n",
              "      <td>-0.447276</td>\n",
              "    </tr>\n",
              "    <tr>\n",
              "      <th>8</th>\n",
              "      <td>exang</td>\n",
              "      <td>-0.420235</td>\n",
              "    </tr>\n",
              "    <tr>\n",
              "      <th>10</th>\n",
              "      <td>slope</td>\n",
              "      <td>0.343605</td>\n",
              "    </tr>\n",
              "    <tr>\n",
              "      <th>3</th>\n",
              "      <td>trestbps</td>\n",
              "      <td>-0.320053</td>\n",
              "    </tr>\n",
              "    <tr>\n",
              "      <th>6</th>\n",
              "      <td>restecg</td>\n",
              "      <td>0.140804</td>\n",
              "    </tr>\n",
              "    <tr>\n",
              "      <th>5</th>\n",
              "      <td>fbs</td>\n",
              "      <td>-0.062685</td>\n",
              "    </tr>\n",
              "    <tr>\n",
              "      <th>0</th>\n",
              "      <td>age</td>\n",
              "      <td>-0.006734</td>\n",
              "    </tr>\n",
              "  </tbody>\n",
              "</table>\n",
              "</div>\n",
              "    <div class=\"colab-df-buttons\">\n",
              "\n",
              "  <div class=\"colab-df-container\">\n",
              "    <button class=\"colab-df-convert\" onclick=\"convertToInteractive('df-f3c73548-f8d4-43e3-8dd1-4cd40c1493df')\"\n",
              "            title=\"Convert this dataframe to an interactive table.\"\n",
              "            style=\"display:none;\">\n",
              "\n",
              "  <svg xmlns=\"http://www.w3.org/2000/svg\" height=\"24px\" viewBox=\"0 -960 960 960\">\n",
              "    <path d=\"M120-120v-720h720v720H120Zm60-500h600v-160H180v160Zm220 220h160v-160H400v160Zm0 220h160v-160H400v160ZM180-400h160v-160H180v160Zm440 0h160v-160H620v160ZM180-180h160v-160H180v160Zm440 0h160v-160H620v160Z\"/>\n",
              "  </svg>\n",
              "    </button>\n",
              "\n",
              "  <style>\n",
              "    .colab-df-container {\n",
              "      display:flex;\n",
              "      gap: 12px;\n",
              "    }\n",
              "\n",
              "    .colab-df-convert {\n",
              "      background-color: #E8F0FE;\n",
              "      border: none;\n",
              "      border-radius: 50%;\n",
              "      cursor: pointer;\n",
              "      display: none;\n",
              "      fill: #1967D2;\n",
              "      height: 32px;\n",
              "      padding: 0 0 0 0;\n",
              "      width: 32px;\n",
              "    }\n",
              "\n",
              "    .colab-df-convert:hover {\n",
              "      background-color: #E2EBFA;\n",
              "      box-shadow: 0px 1px 2px rgba(60, 64, 67, 0.3), 0px 1px 3px 1px rgba(60, 64, 67, 0.15);\n",
              "      fill: #174EA6;\n",
              "    }\n",
              "\n",
              "    .colab-df-buttons div {\n",
              "      margin-bottom: 4px;\n",
              "    }\n",
              "\n",
              "    [theme=dark] .colab-df-convert {\n",
              "      background-color: #3B4455;\n",
              "      fill: #D2E3FC;\n",
              "    }\n",
              "\n",
              "    [theme=dark] .colab-df-convert:hover {\n",
              "      background-color: #434B5C;\n",
              "      box-shadow: 0px 1px 3px 1px rgba(0, 0, 0, 0.15);\n",
              "      filter: drop-shadow(0px 1px 2px rgba(0, 0, 0, 0.3));\n",
              "      fill: #FFFFFF;\n",
              "    }\n",
              "  </style>\n",
              "\n",
              "    <script>\n",
              "      const buttonEl =\n",
              "        document.querySelector('#df-f3c73548-f8d4-43e3-8dd1-4cd40c1493df button.colab-df-convert');\n",
              "      buttonEl.style.display =\n",
              "        google.colab.kernel.accessAllowed ? 'block' : 'none';\n",
              "\n",
              "      async function convertToInteractive(key) {\n",
              "        const element = document.querySelector('#df-f3c73548-f8d4-43e3-8dd1-4cd40c1493df');\n",
              "        const dataTable =\n",
              "          await google.colab.kernel.invokeFunction('convertToInteractive',\n",
              "                                                    [key], {});\n",
              "        if (!dataTable) return;\n",
              "\n",
              "        const docLinkHtml = 'Like what you see? Visit the ' +\n",
              "          '<a target=\"_blank\" href=https://colab.research.google.com/notebooks/data_table.ipynb>data table notebook</a>'\n",
              "          + ' to learn more about interactive tables.';\n",
              "        element.innerHTML = '';\n",
              "        dataTable['output_type'] = 'display_data';\n",
              "        await google.colab.output.renderOutput(dataTable, element);\n",
              "        const docLink = document.createElement('div');\n",
              "        docLink.innerHTML = docLinkHtml;\n",
              "        element.appendChild(docLink);\n",
              "      }\n",
              "    </script>\n",
              "  </div>\n",
              "\n",
              "\n",
              "    <div id=\"df-67a195c9-faef-4b36-bf8a-270a1a2c4b6c\">\n",
              "      <button class=\"colab-df-quickchart\" onclick=\"quickchart('df-67a195c9-faef-4b36-bf8a-270a1a2c4b6c')\"\n",
              "                title=\"Suggest charts\"\n",
              "                style=\"display:none;\">\n",
              "\n",
              "<svg xmlns=\"http://www.w3.org/2000/svg\" height=\"24px\"viewBox=\"0 0 24 24\"\n",
              "     width=\"24px\">\n",
              "    <g>\n",
              "        <path d=\"M19 3H5c-1.1 0-2 .9-2 2v14c0 1.1.9 2 2 2h14c1.1 0 2-.9 2-2V5c0-1.1-.9-2-2-2zM9 17H7v-7h2v7zm4 0h-2V7h2v10zm4 0h-2v-4h2v4z\"/>\n",
              "    </g>\n",
              "</svg>\n",
              "      </button>\n",
              "\n",
              "<style>\n",
              "  .colab-df-quickchart {\n",
              "      --bg-color: #E8F0FE;\n",
              "      --fill-color: #1967D2;\n",
              "      --hover-bg-color: #E2EBFA;\n",
              "      --hover-fill-color: #174EA6;\n",
              "      --disabled-fill-color: #AAA;\n",
              "      --disabled-bg-color: #DDD;\n",
              "  }\n",
              "\n",
              "  [theme=dark] .colab-df-quickchart {\n",
              "      --bg-color: #3B4455;\n",
              "      --fill-color: #D2E3FC;\n",
              "      --hover-bg-color: #434B5C;\n",
              "      --hover-fill-color: #FFFFFF;\n",
              "      --disabled-bg-color: #3B4455;\n",
              "      --disabled-fill-color: #666;\n",
              "  }\n",
              "\n",
              "  .colab-df-quickchart {\n",
              "    background-color: var(--bg-color);\n",
              "    border: none;\n",
              "    border-radius: 50%;\n",
              "    cursor: pointer;\n",
              "    display: none;\n",
              "    fill: var(--fill-color);\n",
              "    height: 32px;\n",
              "    padding: 0;\n",
              "    width: 32px;\n",
              "  }\n",
              "\n",
              "  .colab-df-quickchart:hover {\n",
              "    background-color: var(--hover-bg-color);\n",
              "    box-shadow: 0 1px 2px rgba(60, 64, 67, 0.3), 0 1px 3px 1px rgba(60, 64, 67, 0.15);\n",
              "    fill: var(--button-hover-fill-color);\n",
              "  }\n",
              "\n",
              "  .colab-df-quickchart-complete:disabled,\n",
              "  .colab-df-quickchart-complete:disabled:hover {\n",
              "    background-color: var(--disabled-bg-color);\n",
              "    fill: var(--disabled-fill-color);\n",
              "    box-shadow: none;\n",
              "  }\n",
              "\n",
              "  .colab-df-spinner {\n",
              "    border: 2px solid var(--fill-color);\n",
              "    border-color: transparent;\n",
              "    border-bottom-color: var(--fill-color);\n",
              "    animation:\n",
              "      spin 1s steps(1) infinite;\n",
              "  }\n",
              "\n",
              "  @keyframes spin {\n",
              "    0% {\n",
              "      border-color: transparent;\n",
              "      border-bottom-color: var(--fill-color);\n",
              "      border-left-color: var(--fill-color);\n",
              "    }\n",
              "    20% {\n",
              "      border-color: transparent;\n",
              "      border-left-color: var(--fill-color);\n",
              "      border-top-color: var(--fill-color);\n",
              "    }\n",
              "    30% {\n",
              "      border-color: transparent;\n",
              "      border-left-color: var(--fill-color);\n",
              "      border-top-color: var(--fill-color);\n",
              "      border-right-color: var(--fill-color);\n",
              "    }\n",
              "    40% {\n",
              "      border-color: transparent;\n",
              "      border-right-color: var(--fill-color);\n",
              "      border-top-color: var(--fill-color);\n",
              "    }\n",
              "    60% {\n",
              "      border-color: transparent;\n",
              "      border-right-color: var(--fill-color);\n",
              "    }\n",
              "    80% {\n",
              "      border-color: transparent;\n",
              "      border-right-color: var(--fill-color);\n",
              "      border-bottom-color: var(--fill-color);\n",
              "    }\n",
              "    90% {\n",
              "      border-color: transparent;\n",
              "      border-bottom-color: var(--fill-color);\n",
              "    }\n",
              "  }\n",
              "</style>\n",
              "\n",
              "      <script>\n",
              "        async function quickchart(key) {\n",
              "          const quickchartButtonEl =\n",
              "            document.querySelector('#' + key + ' button');\n",
              "          quickchartButtonEl.disabled = true;  // To prevent multiple clicks.\n",
              "          quickchartButtonEl.classList.add('colab-df-spinner');\n",
              "          try {\n",
              "            const charts = await google.colab.kernel.invokeFunction(\n",
              "                'suggestCharts', [key], {});\n",
              "          } catch (error) {\n",
              "            console.error('Error during call to suggestCharts:', error);\n",
              "          }\n",
              "          quickchartButtonEl.classList.remove('colab-df-spinner');\n",
              "          quickchartButtonEl.classList.add('colab-df-quickchart-complete');\n",
              "        }\n",
              "        (() => {\n",
              "          let quickchartButtonEl =\n",
              "            document.querySelector('#df-67a195c9-faef-4b36-bf8a-270a1a2c4b6c button');\n",
              "          quickchartButtonEl.style.display =\n",
              "            google.colab.kernel.accessAllowed ? 'block' : 'none';\n",
              "        })();\n",
              "      </script>\n",
              "    </div>\n",
              "\n",
              "  <div id=\"id_553cb4c4-32b3-4eac-96b5-983236639af2\">\n",
              "    <style>\n",
              "      .colab-df-generate {\n",
              "        background-color: #E8F0FE;\n",
              "        border: none;\n",
              "        border-radius: 50%;\n",
              "        cursor: pointer;\n",
              "        display: none;\n",
              "        fill: #1967D2;\n",
              "        height: 32px;\n",
              "        padding: 0 0 0 0;\n",
              "        width: 32px;\n",
              "      }\n",
              "\n",
              "      .colab-df-generate:hover {\n",
              "        background-color: #E2EBFA;\n",
              "        box-shadow: 0px 1px 2px rgba(60, 64, 67, 0.3), 0px 1px 3px 1px rgba(60, 64, 67, 0.15);\n",
              "        fill: #174EA6;\n",
              "      }\n",
              "\n",
              "      [theme=dark] .colab-df-generate {\n",
              "        background-color: #3B4455;\n",
              "        fill: #D2E3FC;\n",
              "      }\n",
              "\n",
              "      [theme=dark] .colab-df-generate:hover {\n",
              "        background-color: #434B5C;\n",
              "        box-shadow: 0px 1px 3px 1px rgba(0, 0, 0, 0.15);\n",
              "        filter: drop-shadow(0px 1px 2px rgba(0, 0, 0, 0.3));\n",
              "        fill: #FFFFFF;\n",
              "      }\n",
              "    </style>\n",
              "    <button class=\"colab-df-generate\" onclick=\"generateWithVariable('feature_importance')\"\n",
              "            title=\"Generate code using this dataframe.\"\n",
              "            style=\"display:none;\">\n",
              "\n",
              "  <svg xmlns=\"http://www.w3.org/2000/svg\" height=\"24px\"viewBox=\"0 0 24 24\"\n",
              "       width=\"24px\">\n",
              "    <path d=\"M7,19H8.4L18.45,9,17,7.55,7,17.6ZM5,21V16.75L18.45,3.32a2,2,0,0,1,2.83,0l1.4,1.43a1.91,1.91,0,0,1,.58,1.4,1.91,1.91,0,0,1-.58,1.4L9.25,21ZM18.45,9,17,7.55Zm-12,3A5.31,5.31,0,0,0,4.9,8.1,5.31,5.31,0,0,0,1,6.5,5.31,5.31,0,0,0,4.9,4.9,5.31,5.31,0,0,0,6.5,1,5.31,5.31,0,0,0,8.1,4.9,5.31,5.31,0,0,0,12,6.5,5.46,5.46,0,0,0,6.5,12Z\"/>\n",
              "  </svg>\n",
              "    </button>\n",
              "    <script>\n",
              "      (() => {\n",
              "      const buttonEl =\n",
              "        document.querySelector('#id_553cb4c4-32b3-4eac-96b5-983236639af2 button.colab-df-generate');\n",
              "      buttonEl.style.display =\n",
              "        google.colab.kernel.accessAllowed ? 'block' : 'none';\n",
              "\n",
              "      buttonEl.onclick = () => {\n",
              "        google.colab.notebook.generateWithVariable('feature_importance');\n",
              "      }\n",
              "      })();\n",
              "    </script>\n",
              "  </div>\n",
              "\n",
              "    </div>\n",
              "  </div>\n"
            ],
            "application/vnd.google.colaboratory.intrinsic+json": {
              "type": "dataframe",
              "variable_name": "feature_importance",
              "summary": "{\n  \"name\": \"feature_importance\",\n  \"rows\": 13,\n  \"fields\": [\n    {\n      \"column\": \"Feature\",\n      \"properties\": {\n        \"dtype\": \"string\",\n        \"num_unique_values\": 13,\n        \"samples\": [\n          \"fbs\",\n          \"trestbps\",\n          \"cp\"\n        ],\n        \"semantic_type\": \"\",\n        \"description\": \"\"\n      }\n    },\n    {\n      \"column\": \"Coefficient\",\n      \"properties\": {\n        \"dtype\": \"number\",\n        \"std\": 0.5660391467131306,\n        \"min\": -0.8475216455411175,\n        \"max\": 0.8858350128989809,\n        \"num_unique_values\": 13,\n        \"samples\": [\n          -0.06268542979524232,\n          -0.32005334088419946,\n          0.8858350128989809\n        ],\n        \"semantic_type\": \"\",\n        \"description\": \"\"\n      }\n    }\n  ]\n}"
            }
          },
          "metadata": {}
        }
      ]
    },
    {
      "cell_type": "markdown",
      "source": [
        "####5.2.7 Decision Tree Classifier"
      ],
      "metadata": {
        "id": "lNvkzEqIdU-H"
      }
    },
    {
      "cell_type": "code",
      "source": [
        "#import the modules\n",
        "from sklearn.tree import DecisionTreeClassifier,plot_tree\n",
        "from sklearn.pipeline import make_pipeline\n",
        "from sklearn.preprocessing import StandardScaler\n",
        "from sklearn.model_selection import train_test_split"
      ],
      "metadata": {
        "id": "-nEPdFL4dr2C"
      },
      "execution_count": 22,
      "outputs": []
    },
    {
      "cell_type": "markdown",
      "source": [
        "#####5.2.7.1 Split the data into training and validation sets"
      ],
      "metadata": {
        "id": "dLGWuBeIHCPU"
      }
    },
    {
      "cell_type": "code",
      "source": [
        "#spliting the data\n",
        "X_train,X_val,y_train,y_val=train_test_split(\n",
        "    inputs,targets,test_size=0.2,random_state=42\n",
        ")\n",
        "X_train.shape,X_val.shape,y_train.shape,y_val.shape"
      ],
      "metadata": {
        "colab": {
          "base_uri": "https://localhost:8080/"
        },
        "id": "RtYHSLmBHcUk",
        "outputId": "4130e91e-9feb-4a74-98d4-9ce9f457268a"
      },
      "execution_count": 23,
      "outputs": [
        {
          "output_type": "execute_result",
          "data": {
            "text/plain": [
              "((820, 13), (205, 13), (820,), (205,))"
            ]
          },
          "metadata": {},
          "execution_count": 23
        }
      ]
    },
    {
      "cell_type": "markdown",
      "source": [
        "#####5.2.7.2 DecisionTree Model"
      ],
      "metadata": {
        "id": "9fBBTa8wd9nO"
      }
    },
    {
      "cell_type": "code",
      "source": [
        "depth_hyperparam= range(1,20)\n",
        "training_acc=[]\n",
        "validation_acc= []\n",
        "for d in depth_hyperparam:\n",
        "  #create a model with max_depth of d\n",
        "  model2= make_pipeline(\n",
        "      StandardScaler(),\n",
        "      DecisionTreeClassifier(max_depth=d,random_state=42)\n",
        "  ) # Added the missing parenthesis here\n",
        "\n",
        "  #fit the model\n",
        "  model2.fit(X_train,y_train)\n",
        "\n",
        "  #calculate the training accuracy and append it to training_acc\n",
        "  training_acc.append(model2.score(X_train,y_train))\n",
        "\n",
        "  #calculate the validation accuracy and append it to the validation_acc\n",
        "  validation_acc.append(model2.score(X_val,y_val))"
      ],
      "metadata": {
        "id": "E2Y0EEDgE-8j"
      },
      "execution_count": 24,
      "outputs": []
    },
    {
      "cell_type": "markdown",
      "source": [
        "#####5.2.7.3 Validation curve"
      ],
      "metadata": {
        "id": "nHNycy7sJtpx"
      }
    },
    {
      "cell_type": "code",
      "source": [
        "#lets build the validation curve to determine our max_depth\n",
        "import matplotlib.pyplot as plt\n",
        "plt.figure(figsize=(10,6))\n",
        "plt.plot(depth_hyperparam,training_acc,label='Training Accuracy')\n",
        "plt.plot(depth_hyperparam,validation_acc,label='Validation Accuracy')\n",
        "plt.legend()\n",
        "plt.xlabel('Max Depth')\n",
        "plt.ylabel('Accuracy')\n",
        "plt.title('Validation Curve')\n",
        "plt.show()"
      ],
      "metadata": {
        "colab": {
          "base_uri": "https://localhost:8080/",
          "height": 564
        },
        "id": "gNKYEBfjJ0f1",
        "outputId": "768e60c8-6441-439f-e720-36599dfb1bd5"
      },
      "execution_count": 25,
      "outputs": [
        {
          "output_type": "display_data",
          "data": {
            "text/plain": [
              "<Figure size 1000x600 with 1 Axes>"
            ],
            "image/png": "[encoded data removed]"
          },
          "metadata": {}
        }
      ]
    },
    {
      "cell_type": "markdown",
      "source": [
        "Optimal max depth=8–10, where validation accuracy is high and stable. Lets use a max_depth of 10 in our Model loop."
      ],
      "metadata": {
        "id": "o1AyWOGrKgLQ"
      }
    },
    {
      "cell_type": "code",
      "source": [
        "# Train the Decision Tree model with the optimal max_depth\n",
        "optimal_depth = 7\n",
        "model2_final= make_pipeline(\n",
        "    StandardScaler(),\n",
        "    DecisionTreeClassifier(max_depth=optimal_depth, random_state=42)\n",
        ")\n",
        "\n",
        "# Fit the model\n",
        "model2_final.fit(X_train, y_train)\n",
        "\n",
        "# Calculate the training and validation accuracies\n",
        "training_acc = model2_final.score(X_train, y_train)\n",
        "validation_acc = model2_final.score(X_val, y_val)"
      ],
      "metadata": {
        "id": "gcJC-nlrK5En"
      },
      "execution_count": 26,
      "outputs": []
    },
    {
      "cell_type": "code",
      "source": [
        "print(f'The accuracy on the training set is: {training_acc:.2f}')\n",
        "print(f'The accuracy on the validation set is: {validation_acc:.2f}')"
      ],
      "metadata": {
        "colab": {
          "base_uri": "https://localhost:8080/"
        },
        "id": "x0WKbtuaLApD",
        "outputId": "ebb96ed1-0bb1-49f0-ef78-cb2018dd2526"
      },
      "execution_count": 27,
      "outputs": [
        {
          "output_type": "stream",
          "name": "stdout",
          "text": [
            "The accuracy on the training set is: 0.97\n",
            "The accuracy on the validation set is: 0.92\n"
          ]
        }
      ]
    },
    {
      "cell_type": "markdown",
      "source": [
        "#####5.2.7.4 Evaluation"
      ],
      "metadata": {
        "id": "AoL6JmNMLM61"
      }
    },
    {
      "cell_type": "code",
      "source": [
        "y_test_pred=model2_final.predict(X_test)\n",
        "y_test_pred[:5]"
      ],
      "metadata": {
        "colab": {
          "base_uri": "https://localhost:8080/"
        },
        "id": "Y6bC--UBMHWx",
        "outputId": "dada0776-889c-47a2-ee00-79343da4ab4e"
      },
      "execution_count": 28,
      "outputs": [
        {
          "output_type": "execute_result",
          "data": {
            "text/plain": [
              "array([1, 1, 0, 1, 0])"
            ]
          },
          "metadata": {},
          "execution_count": 28
        }
      ]
    },
    {
      "cell_type": "markdown",
      "source": [
        "####5.2.8 Neural Network Deep Learning"
      ],
      "metadata": {
        "id": "QXivObRNMQTD"
      }
    },
    {
      "cell_type": "markdown",
      "source": [
        "#####5.2.8.1 Separate features and targets"
      ],
      "metadata": {
        "id": "BVm8Kjz3NTnA"
      }
    },
    {
      "cell_type": "code",
      "source": [
        "#separate inputs and targets from our df\n",
        "inputs=df.iloc[:,:-1].values\n",
        "target=df.iloc[:,-1].values.reshape(-1,1)\n",
        "\n",
        "print(f'Inputs:{inputs[:5]}')\n",
        "print(f'Targets:{target[:5]}')"
      ],
      "metadata": {
        "colab": {
          "base_uri": "https://localhost:8080/"
        },
        "id": "U4S20b3NNbPw",
        "outputId": "b1a08401-9ecb-4d41-8998-44509936fc5e"
      },
      "execution_count": 29,
      "outputs": [
        {
          "output_type": "stream",
          "name": "stdout",
          "text": [
            "Inputs:[[ 52.    1.    0.  125.  212.    0.    1.  168.    0.    1.    2.    2.\n",
            "    3. ]\n",
            " [ 53.    1.    0.  140.  203.    1.    0.  155.    1.    3.1   0.    0.\n",
            "    3. ]\n",
            " [ 70.    1.    0.  145.  174.    0.    1.  125.    1.    2.6   0.    0.\n",
            "    3. ]\n",
            " [ 61.    1.    0.  148.  203.    0.    1.  161.    0.    0.    2.    1.\n",
            "    3. ]\n",
            " [ 62.    0.    0.  138.  294.    1.    1.  106.    0.    1.9   1.    3.\n",
            "    2. ]]\n",
            "Targets:[[0]\n",
            " [0]\n",
            " [0]\n",
            " [0]\n",
            " [0]]\n"
          ]
        }
      ]
    },
    {
      "cell_type": "markdown",
      "source": [
        "#####5.2.8.2 Scale the input features"
      ],
      "metadata": {
        "id": "Cmvks_vvN0nK"
      }
    },
    {
      "cell_type": "code",
      "source": [
        "from sklearn.preprocessing import StandardScaler\n",
        "scaler=StandardScaler()\n",
        "inputs_scaled=scaler.fit_transform(inputs)"
      ],
      "metadata": {
        "id": "PvW8zocnOaVi"
      },
      "execution_count": 30,
      "outputs": []
    },
    {
      "cell_type": "markdown",
      "source": [
        "#####5.2.8.3 Convert to tensors"
      ],
      "metadata": {
        "id": "WoQKMND7Ofr3"
      }
    },
    {
      "cell_type": "code",
      "source": [
        "#converting to tensors\n",
        "import torch\n",
        "from torch import nn\n",
        "\n",
        "inputs_tensor=torch.tensor(inputs_scaled,dtype=torch.float32)\n",
        "target_tensor=torch.tensor(target,dtype=torch.float32)"
      ],
      "metadata": {
        "id": "jzlx7XMeOl2_"
      },
      "execution_count": 31,
      "outputs": []
    },
    {
      "cell_type": "markdown",
      "source": [
        "#####5.2.8.4 Shape and Split into Training (80%) and test(20%) sets"
      ],
      "metadata": {
        "id": "ZCLnPq5sOyYM"
      }
    },
    {
      "cell_type": "code",
      "source": [
        "torch.manual_seed (42)\n",
        "n_samples =inputs_tensor.shape[0]\n",
        "indices= torch.randperm(n_samples)\n",
        "split_idx=int(n_samples*0.8)\n",
        "\n",
        "train_indices= indices[:split_idx]\n",
        "test_indices= indices[split_idx:]\n",
        "\n",
        "X_train=inputs_tensor[train_indices]\n",
        "y_train=target_tensor[train_indices]\n",
        "\n",
        "X_test=inputs_tensor[test_indices]\n",
        "y_test=target_tensor[test_indices]"
      ],
      "metadata": {
        "id": "AZf1XgUzO_ey"
      },
      "execution_count": 32,
      "outputs": []
    },
    {
      "cell_type": "code",
      "source": [
        "#make device agnostic code\n",
        "device ='cuda' if torch.cuda.is_available() else 'cpu'\n",
        "device"
      ],
      "metadata": {
        "colab": {
          "base_uri": "https://localhost:8080/",
          "height": 35
        },
        "id": "M7KaJC3gixkp",
        "outputId": "7436c790-6ecf-46c7-a38e-5da58cab9721"
      },
      "execution_count": 33,
      "outputs": [
        {
          "output_type": "execute_result",
          "data": {
            "text/plain": [
              "'cuda'"
            ],
            "application/vnd.google.colaboratory.intrinsic+json": {
              "type": "string"
            }
          },
          "metadata": {},
          "execution_count": 33
        }
      ]
    },
    {
      "cell_type": "markdown",
      "source": [
        "#####5.2.8.5 Building Model"
      ],
      "metadata": {
        "id": "-0UguCO6Pr63"
      }
    },
    {
      "cell_type": "code",
      "source": [
        "#Build a model class that subclasses nn.Module\n",
        "class model3(nn.Module):\n",
        "  def __init__(self):\n",
        "    super().__init__()\n",
        "    self.layer_1=nn.Linear(in_features=13,out_features=20)\n",
        "    self.layer_2=nn.Linear(in_features=20,out_features=20)\n",
        "    self.layer_3=nn.Linear(in_features=20,out_features=1) # Changed in_features to 20 to match layer_2 output\n",
        "    self.relu=nn.ReLU()\n",
        "\n",
        "  #forward function\n",
        "  def forward(self,x):\n",
        "    return self.layer_3(self.relu(self.layer_2(self.relu(self.layer_1(x)))))"
      ],
      "metadata": {
        "id": "Lxu4BivWQCds"
      },
      "execution_count": 34,
      "outputs": []
    },
    {
      "cell_type": "code",
      "source": [
        "#make predictions with the model\n",
        "model = model3().to(device) # Instantiate the model and then move it to the device\n",
        "untrained_pred=model(X_test.to(device)) # Move X_test to the device before passing it to the model\n",
        "print(f'The first 10 predictions are:{untrained_pred[:10]}')\n",
        "print(f'The first 10 targets are:{y_test[:10]}')"
      ],
      "metadata": {
        "colab": {
          "base_uri": "https://localhost:8080/"
        },
        "id": "wyODtY3aRBnR",
        "outputId": "e503c38a-1a86-4672-eff2-c0b6b5baeb28"
      },
      "execution_count": 35,
      "outputs": [
        {
          "output_type": "stream",
          "name": "stdout",
          "text": [
            "The first 10 predictions are:tensor([[0.2107],\n",
            "        [0.1834],\n",
            "        [0.1793],\n",
            "        [0.1650],\n",
            "        [0.2559],\n",
            "        [0.2210],\n",
            "        [0.2107],\n",
            "        [0.1053],\n",
            "        [0.1412],\n",
            "        [0.0537]], device='cuda:0', grad_fn=<SliceBackward0>)\n",
            "The first 10 targets are:tensor([[0.],\n",
            "        [1.],\n",
            "        [0.],\n",
            "        [0.],\n",
            "        [1.],\n",
            "        [1.],\n",
            "        [0.],\n",
            "        [0.],\n",
            "        [0.],\n",
            "        [1.]])\n"
          ]
        }
      ]
    },
    {
      "cell_type": "markdown",
      "source": [
        "#####5.2.8.6 Build a loss function and optimizer"
      ],
      "metadata": {
        "id": "qv0JeVEZR0CR"
      }
    },
    {
      "cell_type": "code",
      "source": [
        "#Build a loss function and optimizer\n",
        "loss_fn =nn.BCEWithLogitsLoss()\n",
        "optimizer=torch.optim.SGD(params=model.parameters(),lr=0.3)"
      ],
      "metadata": {
        "id": "EE1VKdnjScF9"
      },
      "execution_count": 36,
      "outputs": []
    },
    {
      "cell_type": "markdown",
      "source": [
        "#####5.2.8.7 Evaluate the metrics using accuracy"
      ],
      "metadata": {
        "id": "GvImeQHfTKHi"
      }
    },
    {
      "cell_type": "code",
      "source": [
        "def accuracy_fn(y_true,y_pred):\n",
        "  correct=torch.eq(y_true,y_pred).sum().item()\n",
        "  acc=correct/len(y_pred)\n",
        "  return acc"
      ],
      "metadata": {
        "id": "29HU-1GGS4EU"
      },
      "execution_count": 37,
      "outputs": []
    },
    {
      "cell_type": "markdown",
      "source": [
        "#####5.2.8.8 Train the model using trainng loop"
      ],
      "metadata": {
        "id": "htrO9RgnTIrG"
      }
    },
    {
      "cell_type": "code",
      "source": [
        "torch.manual_seed(42)\n",
        "epochs=1000\n",
        "\n",
        "#put data to targeted device\n",
        "X_train=X_train.to(device)\n",
        "y_train=y_train.to(device)\n",
        "X_test=X_test.to(device)\n",
        "y_test=y_test.to(device)"
      ],
      "metadata": {
        "id": "M3FZnZXnTZAo"
      },
      "execution_count": 38,
      "outputs": []
    },
    {
      "cell_type": "code",
      "source": [
        "#Building the training and testing loop\n",
        "for epoch in range(epochs):\n",
        "\n",
        "  #train the model\n",
        "  model.train()\n",
        "\n",
        "  #forward pass\n",
        "  y_logits=model(X_train).squeeze()\n",
        "  y_pred=torch.round(torch.sigmoid(y_logits))\n",
        "\n",
        "  #calculate the loss and accuracy\n",
        "  loss=loss_fn(y_logits,y_train.squeeze())\n",
        "  acc= accuracy_fn(y_true=y_train.squeeze(),y_pred=y_pred)\n",
        "\n",
        "  #optimizer zero grad\n",
        "  optimizer.zero_grad()\n",
        "\n",
        "  #loss backward\n",
        "  loss.backward()\n",
        "\n",
        "  #optimizer step\n",
        "  optimizer.step()\n",
        "\n",
        "  ### Testing loop\n",
        "  model.eval()\n",
        "  with torch.inference_mode():\n",
        "\n",
        "    #forward pass\n",
        "    test_logits=model(X_test).squeeze()\n",
        "    test_pred=torch.round(torch.sigmoid(test_logits))\n",
        "\n",
        "    #calculate the loss and accuracy\n",
        "    test_loss=loss_fn(test_logits,y_test.squeeze()) # Squeeze y_test for test loss\n",
        "    test_acc=accuracy_fn(y_true=y_test.squeeze(),y_pred=test_pred) # Squeeze y_test for test accuracy\n",
        "\n",
        "    #prin out what's happening every 10 epochs\n",
        "    if epoch % 10 == 0:\n",
        "      print(f'Epoch: {epoch} | Loss: {loss:.5f} | Accuracy: {acc:.2f} | Test Loss: {test_loss:.5f} | Test Accuracy: {test_acc:.2f}')"
      ],
      "metadata": {
        "colab": {
          "base_uri": "https://localhost:8080/"
        },
        "id": "w8ar6JsHToXF",
        "outputId": "93a35111-ff9a-46ac-a55c-6b07d3e1f72e"
      },
      "execution_count": 39,
      "outputs": [
        {
          "output_type": "stream",
          "name": "stdout",
          "text": [
            "Epoch: 0 | Loss: 0.68591 | Accuracy: 0.54 | Test Loss: 0.68149 | Test Accuracy: 0.57\n",
            "Epoch: 10 | Loss: 0.59632 | Accuracy: 0.78 | Test Loss: 0.59666 | Test Accuracy: 0.76\n",
            "Epoch: 20 | Loss: 0.44488 | Accuracy: 0.84 | Test Loss: 0.47990 | Test Accuracy: 0.79\n",
            "Epoch: 30 | Loss: 0.35569 | Accuracy: 0.86 | Test Loss: 0.43766 | Test Accuracy: 0.80\n",
            "Epoch: 40 | Loss: 0.32360 | Accuracy: 0.87 | Test Loss: 0.43353 | Test Accuracy: 0.81\n",
            "Epoch: 50 | Loss: 0.30645 | Accuracy: 0.88 | Test Loss: 0.43372 | Test Accuracy: 0.82\n",
            "Epoch: 60 | Loss: 0.29442 | Accuracy: 0.88 | Test Loss: 0.43215 | Test Accuracy: 0.82\n",
            "Epoch: 70 | Loss: 0.28419 | Accuracy: 0.89 | Test Loss: 0.42855 | Test Accuracy: 0.83\n",
            "Epoch: 80 | Loss: 0.27371 | Accuracy: 0.90 | Test Loss: 0.42309 | Test Accuracy: 0.84\n",
            "Epoch: 90 | Loss: 0.26394 | Accuracy: 0.90 | Test Loss: 0.41778 | Test Accuracy: 0.84\n",
            "Epoch: 100 | Loss: 0.25493 | Accuracy: 0.90 | Test Loss: 0.41347 | Test Accuracy: 0.84\n",
            "Epoch: 110 | Loss: 0.24627 | Accuracy: 0.91 | Test Loss: 0.40888 | Test Accuracy: 0.84\n",
            "Epoch: 120 | Loss: 0.23821 | Accuracy: 0.91 | Test Loss: 0.40470 | Test Accuracy: 0.84\n",
            "Epoch: 130 | Loss: 0.23017 | Accuracy: 0.91 | Test Loss: 0.39920 | Test Accuracy: 0.86\n",
            "Epoch: 140 | Loss: 0.22183 | Accuracy: 0.92 | Test Loss: 0.39270 | Test Accuracy: 0.86\n",
            "Epoch: 150 | Loss: 0.21285 | Accuracy: 0.93 | Test Loss: 0.38442 | Test Accuracy: 0.88\n",
            "Epoch: 160 | Loss: 0.20453 | Accuracy: 0.93 | Test Loss: 0.37794 | Test Accuracy: 0.89\n",
            "Epoch: 170 | Loss: 0.19667 | Accuracy: 0.93 | Test Loss: 0.37350 | Test Accuracy: 0.89\n",
            "Epoch: 180 | Loss: 0.18884 | Accuracy: 0.93 | Test Loss: 0.36886 | Test Accuracy: 0.90\n",
            "Epoch: 190 | Loss: 0.18117 | Accuracy: 0.94 | Test Loss: 0.36513 | Test Accuracy: 0.90\n",
            "Epoch: 200 | Loss: 0.17381 | Accuracy: 0.94 | Test Loss: 0.36211 | Test Accuracy: 0.90\n",
            "Epoch: 210 | Loss: 0.16685 | Accuracy: 0.94 | Test Loss: 0.35994 | Test Accuracy: 0.91\n",
            "Epoch: 220 | Loss: 0.16019 | Accuracy: 0.95 | Test Loss: 0.35792 | Test Accuracy: 0.91\n",
            "Epoch: 230 | Loss: 0.15398 | Accuracy: 0.95 | Test Loss: 0.35557 | Test Accuracy: 0.91\n",
            "Epoch: 240 | Loss: 0.14808 | Accuracy: 0.96 | Test Loss: 0.35247 | Test Accuracy: 0.92\n",
            "Epoch: 250 | Loss: 0.14199 | Accuracy: 0.96 | Test Loss: 0.34882 | Test Accuracy: 0.92\n",
            "Epoch: 260 | Loss: 0.13614 | Accuracy: 0.96 | Test Loss: 0.34665 | Test Accuracy: 0.92\n",
            "Epoch: 270 | Loss: 0.13030 | Accuracy: 0.96 | Test Loss: 0.34588 | Test Accuracy: 0.92\n",
            "Epoch: 280 | Loss: 0.12455 | Accuracy: 0.96 | Test Loss: 0.34415 | Test Accuracy: 0.92\n",
            "Epoch: 290 | Loss: 0.11892 | Accuracy: 0.97 | Test Loss: 0.34442 | Test Accuracy: 0.93\n",
            "Epoch: 300 | Loss: 0.11305 | Accuracy: 0.97 | Test Loss: 0.34421 | Test Accuracy: 0.94\n",
            "Epoch: 310 | Loss: 0.10726 | Accuracy: 0.97 | Test Loss: 0.34315 | Test Accuracy: 0.94\n",
            "Epoch: 320 | Loss: 0.10158 | Accuracy: 0.97 | Test Loss: 0.34263 | Test Accuracy: 0.94\n",
            "Epoch: 330 | Loss: 0.09618 | Accuracy: 0.98 | Test Loss: 0.34146 | Test Accuracy: 0.95\n",
            "Epoch: 340 | Loss: 0.09090 | Accuracy: 0.99 | Test Loss: 0.34204 | Test Accuracy: 0.96\n",
            "Epoch: 350 | Loss: 0.08573 | Accuracy: 0.99 | Test Loss: 0.34169 | Test Accuracy: 0.96\n",
            "Epoch: 360 | Loss: 0.08033 | Accuracy: 0.99 | Test Loss: 0.33933 | Test Accuracy: 0.97\n",
            "Epoch: 370 | Loss: 0.07524 | Accuracy: 0.99 | Test Loss: 0.33786 | Test Accuracy: 0.97\n",
            "Epoch: 380 | Loss: 0.07032 | Accuracy: 0.99 | Test Loss: 0.33524 | Test Accuracy: 0.97\n",
            "Epoch: 390 | Loss: 0.06578 | Accuracy: 0.99 | Test Loss: 0.33351 | Test Accuracy: 0.97\n",
            "Epoch: 400 | Loss: 0.06161 | Accuracy: 0.99 | Test Loss: 0.33229 | Test Accuracy: 0.97\n",
            "Epoch: 410 | Loss: 0.05781 | Accuracy: 0.99 | Test Loss: 0.33192 | Test Accuracy: 0.97\n",
            "Epoch: 420 | Loss: 0.05436 | Accuracy: 0.99 | Test Loss: 0.33169 | Test Accuracy: 0.97\n",
            "Epoch: 430 | Loss: 0.05129 | Accuracy: 0.99 | Test Loss: 0.33188 | Test Accuracy: 0.97\n",
            "Epoch: 440 | Loss: 0.04828 | Accuracy: 0.99 | Test Loss: 0.33225 | Test Accuracy: 0.97\n",
            "Epoch: 450 | Loss: 0.04535 | Accuracy: 0.99 | Test Loss: 0.33230 | Test Accuracy: 0.97\n",
            "Epoch: 460 | Loss: 0.04259 | Accuracy: 0.99 | Test Loss: 0.33332 | Test Accuracy: 0.97\n",
            "Epoch: 470 | Loss: 0.03997 | Accuracy: 0.99 | Test Loss: 0.33459 | Test Accuracy: 0.97\n",
            "Epoch: 480 | Loss: 0.03738 | Accuracy: 0.99 | Test Loss: 0.33566 | Test Accuracy: 0.97\n",
            "Epoch: 490 | Loss: 0.03488 | Accuracy: 1.00 | Test Loss: 0.33807 | Test Accuracy: 0.98\n",
            "Epoch: 500 | Loss: 0.03281 | Accuracy: 1.00 | Test Loss: 0.34112 | Test Accuracy: 0.98\n",
            "Epoch: 510 | Loss: 0.03087 | Accuracy: 1.00 | Test Loss: 0.34435 | Test Accuracy: 0.98\n",
            "Epoch: 520 | Loss: 0.02909 | Accuracy: 1.00 | Test Loss: 0.34563 | Test Accuracy: 0.98\n",
            "Epoch: 530 | Loss: 0.02742 | Accuracy: 1.00 | Test Loss: 0.34842 | Test Accuracy: 0.98\n",
            "Epoch: 540 | Loss: 0.02587 | Accuracy: 1.00 | Test Loss: 0.35134 | Test Accuracy: 0.98\n",
            "Epoch: 550 | Loss: 0.02446 | Accuracy: 1.00 | Test Loss: 0.35418 | Test Accuracy: 0.98\n",
            "Epoch: 560 | Loss: 0.02321 | Accuracy: 1.00 | Test Loss: 0.35673 | Test Accuracy: 0.98\n",
            "Epoch: 570 | Loss: 0.02207 | Accuracy: 1.00 | Test Loss: 0.35870 | Test Accuracy: 0.98\n",
            "Epoch: 580 | Loss: 0.02085 | Accuracy: 1.00 | Test Loss: 0.36105 | Test Accuracy: 0.98\n",
            "Epoch: 590 | Loss: 0.01985 | Accuracy: 1.00 | Test Loss: 0.36288 | Test Accuracy: 0.98\n",
            "Epoch: 600 | Loss: 0.01891 | Accuracy: 1.00 | Test Loss: 0.36535 | Test Accuracy: 0.98\n",
            "Epoch: 610 | Loss: 0.01805 | Accuracy: 1.00 | Test Loss: 0.36782 | Test Accuracy: 0.98\n",
            "Epoch: 620 | Loss: 0.01725 | Accuracy: 1.00 | Test Loss: 0.37002 | Test Accuracy: 0.98\n",
            "Epoch: 630 | Loss: 0.01646 | Accuracy: 1.00 | Test Loss: 0.37273 | Test Accuracy: 0.98\n",
            "Epoch: 640 | Loss: 0.01572 | Accuracy: 1.00 | Test Loss: 0.37539 | Test Accuracy: 0.98\n",
            "Epoch: 650 | Loss: 0.01507 | Accuracy: 1.00 | Test Loss: 0.37726 | Test Accuracy: 0.98\n",
            "Epoch: 660 | Loss: 0.01446 | Accuracy: 1.00 | Test Loss: 0.38006 | Test Accuracy: 0.98\n",
            "Epoch: 670 | Loss: 0.01388 | Accuracy: 1.00 | Test Loss: 0.38239 | Test Accuracy: 0.98\n",
            "Epoch: 680 | Loss: 0.01335 | Accuracy: 1.00 | Test Loss: 0.38481 | Test Accuracy: 0.98\n",
            "Epoch: 690 | Loss: 0.01286 | Accuracy: 1.00 | Test Loss: 0.38707 | Test Accuracy: 0.99\n",
            "Epoch: 700 | Loss: 0.01232 | Accuracy: 1.00 | Test Loss: 0.39008 | Test Accuracy: 0.99\n",
            "Epoch: 710 | Loss: 0.01173 | Accuracy: 1.00 | Test Loss: 0.39223 | Test Accuracy: 0.99\n",
            "Epoch: 720 | Loss: 0.01119 | Accuracy: 1.00 | Test Loss: 0.39464 | Test Accuracy: 0.99\n",
            "Epoch: 730 | Loss: 0.01071 | Accuracy: 1.00 | Test Loss: 0.39661 | Test Accuracy: 0.99\n",
            "Epoch: 740 | Loss: 0.01025 | Accuracy: 1.00 | Test Loss: 0.39912 | Test Accuracy: 0.99\n",
            "Epoch: 750 | Loss: 0.00979 | Accuracy: 1.00 | Test Loss: 0.40131 | Test Accuracy: 0.99\n",
            "Epoch: 760 | Loss: 0.00942 | Accuracy: 1.00 | Test Loss: 0.40362 | Test Accuracy: 0.99\n",
            "Epoch: 770 | Loss: 0.00905 | Accuracy: 1.00 | Test Loss: 0.40625 | Test Accuracy: 0.99\n",
            "Epoch: 780 | Loss: 0.00869 | Accuracy: 1.00 | Test Loss: 0.40865 | Test Accuracy: 0.99\n",
            "Epoch: 790 | Loss: 0.00840 | Accuracy: 1.00 | Test Loss: 0.41111 | Test Accuracy: 0.99\n",
            "Epoch: 800 | Loss: 0.00810 | Accuracy: 1.00 | Test Loss: 0.41321 | Test Accuracy: 0.99\n",
            "Epoch: 810 | Loss: 0.00781 | Accuracy: 1.00 | Test Loss: 0.41592 | Test Accuracy: 0.99\n",
            "Epoch: 820 | Loss: 0.00755 | Accuracy: 1.00 | Test Loss: 0.41809 | Test Accuracy: 0.99\n",
            "Epoch: 830 | Loss: 0.00731 | Accuracy: 1.00 | Test Loss: 0.42012 | Test Accuracy: 0.99\n",
            "Epoch: 840 | Loss: 0.00707 | Accuracy: 1.00 | Test Loss: 0.42212 | Test Accuracy: 0.99\n",
            "Epoch: 850 | Loss: 0.00683 | Accuracy: 1.00 | Test Loss: 0.42430 | Test Accuracy: 0.99\n",
            "Epoch: 860 | Loss: 0.00663 | Accuracy: 1.00 | Test Loss: 0.42641 | Test Accuracy: 0.99\n",
            "Epoch: 870 | Loss: 0.00643 | Accuracy: 1.00 | Test Loss: 0.42814 | Test Accuracy: 0.99\n",
            "Epoch: 880 | Loss: 0.00624 | Accuracy: 1.00 | Test Loss: 0.43007 | Test Accuracy: 0.99\n",
            "Epoch: 890 | Loss: 0.00603 | Accuracy: 1.00 | Test Loss: 0.43175 | Test Accuracy: 0.99\n",
            "Epoch: 900 | Loss: 0.00586 | Accuracy: 1.00 | Test Loss: 0.43386 | Test Accuracy: 0.99\n",
            "Epoch: 910 | Loss: 0.00569 | Accuracy: 1.00 | Test Loss: 0.43547 | Test Accuracy: 0.99\n",
            "Epoch: 920 | Loss: 0.00553 | Accuracy: 1.00 | Test Loss: 0.43744 | Test Accuracy: 0.99\n",
            "Epoch: 930 | Loss: 0.00537 | Accuracy: 1.00 | Test Loss: 0.43961 | Test Accuracy: 0.99\n",
            "Epoch: 940 | Loss: 0.00523 | Accuracy: 1.00 | Test Loss: 0.44138 | Test Accuracy: 0.99\n",
            "Epoch: 950 | Loss: 0.00509 | Accuracy: 1.00 | Test Loss: 0.44312 | Test Accuracy: 0.99\n",
            "Epoch: 960 | Loss: 0.00497 | Accuracy: 1.00 | Test Loss: 0.44486 | Test Accuracy: 0.99\n",
            "Epoch: 970 | Loss: 0.00483 | Accuracy: 1.00 | Test Loss: 0.44668 | Test Accuracy: 0.99\n",
            "Epoch: 980 | Loss: 0.00472 | Accuracy: 1.00 | Test Loss: 0.44857 | Test Accuracy: 0.99\n",
            "Epoch: 990 | Loss: 0.00460 | Accuracy: 1.00 | Test Loss: 0.45015 | Test Accuracy: 0.99\n"
          ]
        }
      ]
    },
    {
      "cell_type": "markdown",
      "source": [
        "#####5.2.8.9 Evaluate the Model"
      ],
      "metadata": {
        "id": "J1B5rSIgVFQD"
      }
    },
    {
      "cell_type": "code",
      "source": [
        "def plot_decision_boundary(model, X, y):\n",
        "    # Put everything to CPU\n",
        "    model.to(\"cpu\")\n",
        "    X, y = X.to(\"cpu\"), y.to(\"cpu\")\n",
        "\n",
        "    # Setup prediction boundaries and grid\n",
        "    x_min, x_max = X[:, 0].min() - 0.1, X[:, 0].max() + 0.1\n",
        "    y_min, y_max = X[:, 1].min() - 0.1, X[:, 1].max() + 0.1\n",
        "    xx, yy = np.meshgrid(np.linspace(x_min, x_max, 100),\n",
        "                         np.linspace(y_min, y_max, 100))\n",
        "\n",
        "    # Create a tensor with the same number of features as the model expects\n",
        "    X_to_pred_on = torch.zeros(xx.ravel().shape[0], X.shape[1]).float()\n",
        "    X_to_pred_on[:, 0] = torch.from_numpy(xx.ravel()).float()\n",
        "    X_to_pred_on[:, 1] = torch.from_numpy(yy.ravel()).float()\n",
        "\n",
        "    # Fill the remaining features with the mean of the training data\n",
        "    mean_features = X_train.mean(dim=0).cpu()\n",
        "    for i in range(2, X.shape[1]):\n",
        "        X_to_pred_on[:, i] = mean_features[i]\n",
        "\n",
        "    # Predictions\n",
        "    with torch.no_grad():  # turn off gradients\n",
        "        y_logits = model(X_to_pred_on)\n",
        "        y_pred = torch.round(torch.sigmoid(y_logits)).squeeze()\n",
        "\n",
        "    # Reshape preds and plot\n",
        "    y_pred = y_pred.reshape(xx.shape)\n",
        "    plt.contourf(xx, yy, y_pred.detach().numpy(), cmap=plt.cm.RdYlGn, alpha=0.7)\n",
        "\n",
        "    # Convert X and y to numpy safely\n",
        "    plt.scatter(X[:, 0].detach().numpy(),\n",
        "                X[:, 1].detach().numpy(),\n",
        "                c=y.detach().numpy(),\n",
        "                s=40,\n",
        "                cmap=plt.cm.RdYlGn)\n",
        "\n",
        "    plt.xlim(xx.min(), xx.max())\n",
        "    plt.ylim(yy.min(), yy.max())\n"
      ],
      "metadata": {
        "id": "8mGN9oHJVj_W"
      },
      "execution_count": 40,
      "outputs": []
    },
    {
      "cell_type": "code",
      "source": [
        "# Plot decision boundaries for training and test sets\n",
        "plt.figure(figsize=(12, 6))\n",
        "plt.subplot(1, 2, 1)\n",
        "plt.title(\"Train\")\n",
        "plot_decision_boundary(model, X_train, y_train)\n",
        "plt.subplot(1, 2, 2)\n",
        "plt.title(\"Test\")\n",
        "plot_decision_boundary(model, X_test, y_test)\n",
        "plt.show()"
      ],
      "metadata": {
        "colab": {
          "base_uri": "https://localhost:8080/",
          "height": 545
        },
        "id": "nFPY0dA1Woh2",
        "outputId": "4f3a5f7b-7e22-45d9-c890-6e92bfa7c3a7"
      },
      "execution_count": 41,
      "outputs": [
        {
          "output_type": "display_data",
          "data": {
            "text/plain": [
              "<Figure size 1200x600 with 2 Axes>"
            ],
            "image/png": "[encoded data removed]"
          },
          "metadata": {}
        }
      ]
    },
    {
      "cell_type": "markdown",
      "source": [
        "#####5.2.8.10 Results and Discussions"
      ],
      "metadata": {
        "id": "ASDIHKMGXdz5"
      }
    },
    {
      "cell_type": "markdown",
      "source": [
        "##### Results and Discussion\n",
        "\n",
        "The classification model was trained to predict the likelihood of heart disease based on patient features. The learned decision boundary was visualized for both the training and testing datasets to evaluate model performance and generalization.\n",
        "\n",
        "The decision boundary plots above  show how the model separates the two classes: patients with heart disease (Class 1) and those without (Class 0). The green region represents predicted “No Heart Disease,” while the red region corresponds to predicted “Heart Disease.” The yellow line indicates the decision boundary between the two outcomes.\n",
        "\n",
        "On the training data , the classifier successfully captured a non-linear separation between the two classes. Most green points fall within the green region and red points fall within the red region, confirming that the model learned meaningful patterns. However, some misclassifications remain where the two classes overlap, which is expected due to the complexity and noise in medical datasets.\n",
        "\n",
        "On the test data, the boundary is consistent with the training plot, and the model demonstrates a similar distribution of correct classifications and errors. This indicates that the model is generalizing well rather than overfitting to the training set. The stability of the boundary across both sets suggests that the classifier is robust and reliable.\n",
        "\n",
        "Despite these strengths, misclassification persists in regions where patient characteristics for the two groups are highly similar. This overlap reflects the real-world challenge of heart disease diagnosis, where patients with comparable symptoms may differ in their actual condition. To improve predictive power, additional feature engineering, medical domain insights, and advanced ensemble techniques e.g. Random Forests, Gradient Boosting could be employed.\n",
        "\n",
        "In conclusion, the model provides a good balance between accuracy and generalization. It successfully distinguishes between patients with and without heart disease while highlighting areas where improved features and model complexity could yield better diagnostic support.\n"
      ],
      "metadata": {
        "id": "iWW3QdiNXjZ2"
      }
    },
    {
      "cell_type": "markdown",
      "source": [
        "## Business and Sociatal Impact"
      ],
      "metadata": {
        "id": "eC16aqFAYEri"
      }
    },
    {
      "cell_type": "markdown",
      "source": [
        "1. The model can serve as a clinical decision support tool, assisting doctors in identifying high-risk patients quickly.\n",
        "2. It can be integrated into wearable health monitoring systems for real-time risk alerts.\n",
        "3. Supports preventive healthcare, potentially reducing hospitalizations and treatment costs.\n",
        "4. Addresses one of the leading public health challenges by enabling earlier interventions."
      ],
      "metadata": {
        "id": "unlrHeFvYz3W"
      }
    },
    {
      "cell_type": "markdown",
      "source": [
        "## Limitation and Future Works"
      ],
      "metadata": {
        "id": "3ipHE-WtYrQK"
      }
    },
    {
      "cell_type": "markdown",
      "source": [
        "1. The dataset size is relatively small; larger and more diverse datasets are required for generalization.\n",
        "2. Model predictions should not replace medical diagnosis but support clinical judgment.\n",
        "3. Future work: Incorporate electronic health records (EHR), wearable device data, and deep learning models.\n",
        "4. Explore federated learning for privacy-preserving medical AI."
      ],
      "metadata": {
        "id": "FM1eCUVIZCcF"
      }
    },
    {
      "cell_type": "markdown",
      "source": [
        "## Conclusion"
      ],
      "metadata": {
        "id": "OW_JRUHTZNu_"
      }
    },
    {
      "cell_type": "markdown",
      "source": [
        "This project demonstrated the potential of machine learning in heart disease classification. Among the tested models, decision Tree and deep Learning tdelivered superior predictive performance, while Logistic Regression provided interpretable insights into risk factors.\n",
        "\n",
        "Machine learning offers promising applications in healthcare, especially in early detection and preventive medicine. With improvements in data quality, scalability, and explainability, such systems can significantly contribute to reducing the global burden of heart disease."
      ],
      "metadata": {
        "id": "Zzc7qjDCZcn2"
      }
    }
  ]
}